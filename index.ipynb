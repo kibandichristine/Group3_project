{
 "cells": [
  {
   "cell_type": "markdown",
   "metadata": {},
   "source": [
    "# Group 3\n",
    " Martin Ngugi\n",
    " \n",
    " Mercy Odino\n",
    " \n",
    " David Oruko\n",
    " \n",
    " Benson Kinyua\n",
    " \n",
    " Joshua Ooko\n",
    " \n",
    " Christine Kibandi"
   ]
  },
  {
   "cell_type": "markdown",
   "metadata": {},
   "source": [
    "# Project Title: Analyzing the impact  of weather conditions and ride demands  on Uber and lyft rides in relation to price"
   ]
  },
  {
   "cell_type": "markdown",
   "metadata": {},
   "source": [
    "<h1>Table of Contents<span class=\"tocSkip\"></span></h1>\n",
    "<div class=\"toc\"><ul class=\"toc-item\"><li><span><a href=\"#Group-3\" data-toc-modified-id=\"Group-3-1\"><span class=\"toc-item-num\">1&nbsp;&nbsp;</span>Group 3</a></span></li><li><span><a href=\"#Project-Title:-Analyzing-the-impact--of-weather-conditions-and-ride-demands--on-Uber-and-lyft-rides-in-relation-to-price\" data-toc-modified-id=\"Project-Title:-Analyzing-the-impact--of-weather-conditions-and-ride-demands--on-Uber-and-lyft-rides-in-relation-to-price-2\"><span class=\"toc-item-num\">2&nbsp;&nbsp;</span>Project Title: Analyzing the impact  of weather conditions and ride demands  on Uber and lyft rides in relation to price</a></span></li><li><span><a href=\"#Business-understanding\" data-toc-modified-id=\"Business-understanding-3\"><span class=\"toc-item-num\">3&nbsp;&nbsp;</span>Business understanding</a></span><ul class=\"toc-item\"><li><ul class=\"toc-item\"><li><span><a href=\"#Introduction\" data-toc-modified-id=\"Introduction-3.0.1\"><span class=\"toc-item-num\">3.0.1&nbsp;&nbsp;</span>Introduction</a></span></li></ul></li></ul></li><li><span><a href=\"#Problem-statement\" data-toc-modified-id=\"Problem-statement-4\"><span class=\"toc-item-num\">4&nbsp;&nbsp;</span>Problem statement</a></span></li><li><span><a href=\"#Defining-a-metric-of-success\" data-toc-modified-id=\"Defining-a-metric-of-success-5\"><span class=\"toc-item-num\">5&nbsp;&nbsp;</span>Defining a metric of success</a></span></li><li><span><a href=\"#Objectives\" data-toc-modified-id=\"Objectives-6\"><span class=\"toc-item-num\">6&nbsp;&nbsp;</span>Objectives</a></span><ul class=\"toc-item\"><li><ul class=\"toc-item\"><li><ul class=\"toc-item\"><li><span><a href=\"#Main-Objective\" data-toc-modified-id=\"Main-Objective-6.0.0.1\"><span class=\"toc-item-num\">6.0.0.1&nbsp;&nbsp;</span>Main Objective</a></span></li><li><span><a href=\"#Specific-objectives\" data-toc-modified-id=\"Specific-objectives-6.0.0.2\"><span class=\"toc-item-num\">6.0.0.2&nbsp;&nbsp;</span>Specific objectives</a></span></li></ul></li></ul></li></ul></li><li><span><a href=\"#Data-Understanding\" data-toc-modified-id=\"Data-Understanding-7\"><span class=\"toc-item-num\">7&nbsp;&nbsp;</span>Data Understanding</a></span><ul class=\"toc-item\"><li><span><a href=\"#Data-Cleaning.\" data-toc-modified-id=\"Data-Cleaning.-7.1\"><span class=\"toc-item-num\">7.1&nbsp;&nbsp;</span>Data Cleaning.</a></span></li></ul></li><li><span><a href=\"#Visualizations\" data-toc-modified-id=\"Visualizations-8\"><span class=\"toc-item-num\">8&nbsp;&nbsp;</span>Visualizations</a></span><ul class=\"toc-item\"><li><ul class=\"toc-item\"><li><span><a href=\"#Encoding.\" data-toc-modified-id=\"Encoding.-8.0.1\"><span class=\"toc-item-num\">8.0.1&nbsp;&nbsp;</span>Encoding.</a></span></li></ul></li></ul></li><li><span><a href=\"#Modelling\" data-toc-modified-id=\"Modelling-9\"><span class=\"toc-item-num\">9&nbsp;&nbsp;</span>Modelling</a></span><ul class=\"toc-item\"><li><span><a href=\"#1.-Linear-Regression\" data-toc-modified-id=\"1.-Linear-Regression-9.1\"><span class=\"toc-item-num\">9.1&nbsp;&nbsp;</span>1. Linear Regression</a></span><ul class=\"toc-item\"><li><ul class=\"toc-item\"><li><span><a href=\"#MODELLING-AN-OLS-MODEL\" data-toc-modified-id=\"MODELLING-AN-OLS-MODEL-9.1.0.1\"><span class=\"toc-item-num\">9.1.0.1&nbsp;&nbsp;</span>MODELLING AN OLS MODEL</a></span></li></ul></li><li><span><a href=\"#Interpretation-of-the-model-results\" data-toc-modified-id=\"Interpretation-of-the-model-results-9.1.1\"><span class=\"toc-item-num\">9.1.1&nbsp;&nbsp;</span>Interpretation of the model results</a></span><ul class=\"toc-item\"><li><span><a href=\"#Interpreting-the-Mean-squared-error(MSE)-and-Root-Squared-Error-(RMSE)-values\" data-toc-modified-id=\"Interpreting-the-Mean-squared-error(MSE)-and-Root-Squared-Error-(RMSE)-values-9.1.1.1\"><span class=\"toc-item-num\">9.1.1.1&nbsp;&nbsp;</span>Interpreting the Mean squared error(MSE) and Root Squared Error (RMSE) values</a></span></li></ul></li></ul></li><li><span><a href=\"#interpretation-of-the-correlations-:\" data-toc-modified-id=\"interpretation-of-the-correlations-:-9.2\"><span class=\"toc-item-num\">9.2&nbsp;&nbsp;</span>interpretation of the correlations :</a></span></li><li><span><a href=\"#2.-MultiLinear-Regression\" data-toc-modified-id=\"2.-MultiLinear-Regression-9.3\"><span class=\"toc-item-num\">9.3&nbsp;&nbsp;</span>2. MultiLinear Regression</a></span></li><li><span><a href=\"#3.-Ridge-Regression\" data-toc-modified-id=\"3.-Ridge-Regression-9.4\"><span class=\"toc-item-num\">9.4&nbsp;&nbsp;</span>3. Ridge Regression</a></span><ul class=\"toc-item\"><li><ul class=\"toc-item\"><li><span><a href=\"#The-Mean-Squared-Error-(MSE)\" data-toc-modified-id=\"The-Mean-Squared-Error-(MSE)-9.4.0.1\"><span class=\"toc-item-num\">9.4.0.1&nbsp;&nbsp;</span>The Mean Squared Error (MSE)</a></span></li><li><span><a href=\"#R-squared(R2)\" data-toc-modified-id=\"R-squared(R2)-9.4.0.2\"><span class=\"toc-item-num\">9.4.0.2&nbsp;&nbsp;</span>R-squared(R2)</a></span></li><li><span><a href=\"#Mean-Absolute-Error(MAE)\" data-toc-modified-id=\"Mean-Absolute-Error(MAE)-9.4.0.3\"><span class=\"toc-item-num\">9.4.0.3&nbsp;&nbsp;</span>Mean Absolute Error(MAE)</a></span></li></ul></li><li><span><a href=\"#3.1-Scaling-the-Data\" data-toc-modified-id=\"3.1-Scaling-the-Data-9.4.1\"><span class=\"toc-item-num\">9.4.1&nbsp;&nbsp;</span>3.1 Scaling the Data</a></span></li><li><span><a href=\"#3.2-GridSearchCV\" data-toc-modified-id=\"3.2-GridSearchCV-9.4.2\"><span class=\"toc-item-num\">9.4.2&nbsp;&nbsp;</span>3.2 GridSearchCV</a></span><ul class=\"toc-item\"><li><span><a href=\"#Feature-Importance-Ranking:\" data-toc-modified-id=\"Feature-Importance-Ranking:-9.4.2.1\"><span class=\"toc-item-num\">9.4.2.1&nbsp;&nbsp;</span>Feature Importance Ranking:</a></span></li><li><span><a href=\"#Number-of-Features:\" data-toc-modified-id=\"Number-of-Features:-9.4.2.2\"><span class=\"toc-item-num\">9.4.2.2&nbsp;&nbsp;</span>Number of Features:</a></span></li></ul></li></ul></li><li><span><a href=\"#4.-Decision-Tree-Regressor.\" data-toc-modified-id=\"4.-Decision-Tree-Regressor.-9.5\"><span class=\"toc-item-num\">9.5&nbsp;&nbsp;</span>4. Decision Tree Regressor.</a></span><ul class=\"toc-item\"><li><span><a href=\"#4.1-Scaling-the-Data\" data-toc-modified-id=\"4.1-Scaling-the-Data-9.5.1\"><span class=\"toc-item-num\">9.5.1&nbsp;&nbsp;</span>4.1 Scaling the Data</a></span></li><li><span><a href=\"#4.2-GridSearchCV\" data-toc-modified-id=\"4.2-GridSearchCV-9.5.2\"><span class=\"toc-item-num\">9.5.2&nbsp;&nbsp;</span>4.2 GridSearchCV</a></span></li></ul></li><li><span><a href=\"#5.Logistic-Regression\" data-toc-modified-id=\"5.Logistic-Regression-9.6\"><span class=\"toc-item-num\">9.6&nbsp;&nbsp;</span>5.Logistic Regression</a></span></li><li><span><a href=\"#Measuring-model-performance\" data-toc-modified-id=\"Measuring-model-performance-9.7\"><span class=\"toc-item-num\">9.7&nbsp;&nbsp;</span>Measuring model performance</a></span><ul class=\"toc-item\"><li><span><a href=\"#1:-Accuracy\" data-toc-modified-id=\"1:-Accuracy-9.7.1\"><span class=\"toc-item-num\">9.7.1&nbsp;&nbsp;</span>1: Accuracy</a></span></li></ul></li><li><span><a href=\"#6.-Random-Forest-Regression-Model\" data-toc-modified-id=\"6.-Random-Forest-Regression-Model-9.8\"><span class=\"toc-item-num\">9.8&nbsp;&nbsp;</span>6. Random Forest Regression Model</a></span></li></ul></li><li><span><a href=\"#Conclusions\" data-toc-modified-id=\"Conclusions-10\"><span class=\"toc-item-num\">10&nbsp;&nbsp;</span>Conclusions</a></span></li><li><span><a href=\"#Recommendations\" data-toc-modified-id=\"Recommendations-11\"><span class=\"toc-item-num\">11&nbsp;&nbsp;</span>Recommendations</a></span></li></ul></div>"
   ]
  },
  {
   "cell_type": "markdown",
   "metadata": {},
   "source": [
    "# Business understanding\n",
    "### Introduction\n",
    "\n",
    "Ride-sharing services Uber and Lyft, have transformed the way people commute and travel in urban environments. These companies have disrupted the olden ways of the taxi industry by harnessing the power of technology to create a seamless and convenient transportation experience for riders. The ride-sharing services that is coming up at a high rate has led to a shift in urban mobility, giving people another easier way of transportation. \n",
    "The Uber and Lyft is found via a mobile application that connects riders with nearby drivers, enabling users to request rides with just a few taps on their smartphones. This user-friendly and efficient model has gained immense popularity country and worldwide, making ride-sharing a ubiquitous part of modern urban living. The applications receive millions of rides being requested and completed every day.  \n",
    "Understanding the impact of external factors, such as weather conditions, on ride demand and pricing is of paramount importance for these transportation companies. Weather conditions can significantly influence ride patterns, rider preferences, and even the availability of drivers. For instance, heavy rainfall may increase demand for rides, leading to higher surge pricing and longer waiting times. During pleasant weather, riders may be more inclined to opt for shared rides or longer-distance options hence causing many people to cancel their rides.\n",
    "The goal of this data science project is to dive into the relationship between weather conditions and ride services to see what relationships and trends that can enhance operational efficiency and customer experience. "
   ]
  },
  {
   "cell_type": "markdown",
   "metadata": {},
   "source": [
    "# Problem statement\n",
    "The goal of this project is to explore the relationship between weather conditions and the ride services that have been provided by Uber and Lyft. Therefore building a model to analyze the impact of weather conditions, time and availability of the ride on the pricing. Our goal is to develop classification models that uses data on past Uber and Lyft services to accurately capture the relationship between weather condition and ride hailing services and their impact on cab prices."
   ]
  },
  {
   "cell_type": "markdown",
   "metadata": {},
   "source": [
    "# Defining a metric of success\n",
    "The model will be considered successful, when it accurately shows how the price changes when other factors change "
   ]
  },
  {
   "cell_type": "markdown",
   "metadata": {},
   "source": [
    "# Objectives\n",
    "####  Main Objective\n",
    "To understand how weather conditions affect the demand for cabs and how this, in turn, affects the price of cab rides.\n",
    "\n",
    "#### Specific objectives\n",
    "* Identify  factors that affect  demand for cabs in different weather conditions\n",
    "* Develop models that can predict the demand for cabs and the price of cab rides at different times and weather conditions.\n",
    "* Describe how the time of the day affects the cab prices.\n",
    "* Determine what cab is preferred by the clients\n",
    "* Discuss how the distance affects the pricing of the cab."
   ]
  },
  {
   "cell_type": "markdown",
   "metadata": {},
   "source": [
    "# Data Understanding\n",
    "This analysis will use data from Kaggle, Uber and Lyft dataset. The dataset has 693,071rows and 10 columns. The dataset includes information such as cab type, destination, source and price. There is also a weather dataset based on weather conditions and how they affect the pricing of the cabs. It has 6,276rows and 18columns. The dataset contains information like temperature, location, clouds, pressure and rain."
   ]
  },
  {
   "cell_type": "markdown",
   "metadata": {},
   "source": [
    "## Importing the relevant libraries"
   ]
  },
  {
   "cell_type": "code",
   "execution_count": 1,
   "metadata": {},
   "outputs": [],
   "source": [
    "#importing the necessary libraries\n",
    "import pandas as pd\n",
    "import numpy as np\n",
    "import seaborn as sns\n",
    "import matplotlib.pyplot as plt\n",
    "from sklearn.metrics import mean_squared_error, mean_absolute_error\n",
    "from sklearn.metrics import r2_score\n",
    "from sklearn.model_selection import cross_val_score\n",
    "from sklearn.preprocessing import StandardScaler\n",
    "from sklearn.model_selection import GridSearchCV\n",
    "import warnings\n",
    "warnings.filterwarnings('ignore')"
   ]
  },
  {
   "cell_type": "markdown",
   "metadata": {},
   "source": [
    "### Reading the data using pandas"
   ]
  },
  {
   "cell_type": "code",
   "execution_count": 2,
   "metadata": {},
   "outputs": [],
   "source": [
    "#reading the data\n",
    "df1 = pd.read_csv(\"cab_rides.csv\")\n",
    "df2 = pd.read_csv(\"weather.csv\")"
   ]
  },
  {
   "cell_type": "code",
   "execution_count": 3,
   "metadata": {},
   "outputs": [
    {
     "data": {
      "text/html": [
       "<div>\n",
       "<style scoped>\n",
       "    .dataframe tbody tr th:only-of-type {\n",
       "        vertical-align: middle;\n",
       "    }\n",
       "\n",
       "    .dataframe tbody tr th {\n",
       "        vertical-align: top;\n",
       "    }\n",
       "\n",
       "    .dataframe thead th {\n",
       "        text-align: right;\n",
       "    }\n",
       "</style>\n",
       "<table border=\"1\" class=\"dataframe\">\n",
       "  <thead>\n",
       "    <tr style=\"text-align: right;\">\n",
       "      <th></th>\n",
       "      <th>distance</th>\n",
       "      <th>cab_type</th>\n",
       "      <th>time_stamp</th>\n",
       "      <th>destination</th>\n",
       "      <th>source</th>\n",
       "      <th>price</th>\n",
       "      <th>surge_multiplier</th>\n",
       "      <th>id</th>\n",
       "      <th>product_id</th>\n",
       "      <th>name</th>\n",
       "    </tr>\n",
       "  </thead>\n",
       "  <tbody>\n",
       "    <tr>\n",
       "      <th>0</th>\n",
       "      <td>0.44</td>\n",
       "      <td>Lyft</td>\n",
       "      <td>1544952607890</td>\n",
       "      <td>North Station</td>\n",
       "      <td>Haymarket Square</td>\n",
       "      <td>5.0</td>\n",
       "      <td>1.0</td>\n",
       "      <td>424553bb-7174-41ea-aeb4-fe06d4f4b9d7</td>\n",
       "      <td>lyft_line</td>\n",
       "      <td>Shared</td>\n",
       "    </tr>\n",
       "    <tr>\n",
       "      <th>1</th>\n",
       "      <td>0.44</td>\n",
       "      <td>Lyft</td>\n",
       "      <td>1543284023677</td>\n",
       "      <td>North Station</td>\n",
       "      <td>Haymarket Square</td>\n",
       "      <td>11.0</td>\n",
       "      <td>1.0</td>\n",
       "      <td>4bd23055-6827-41c6-b23b-3c491f24e74d</td>\n",
       "      <td>lyft_premier</td>\n",
       "      <td>Lux</td>\n",
       "    </tr>\n",
       "    <tr>\n",
       "      <th>2</th>\n",
       "      <td>0.44</td>\n",
       "      <td>Lyft</td>\n",
       "      <td>1543366822198</td>\n",
       "      <td>North Station</td>\n",
       "      <td>Haymarket Square</td>\n",
       "      <td>7.0</td>\n",
       "      <td>1.0</td>\n",
       "      <td>981a3613-77af-4620-a42a-0c0866077d1e</td>\n",
       "      <td>lyft</td>\n",
       "      <td>Lyft</td>\n",
       "    </tr>\n",
       "    <tr>\n",
       "      <th>3</th>\n",
       "      <td>0.44</td>\n",
       "      <td>Lyft</td>\n",
       "      <td>1543553582749</td>\n",
       "      <td>North Station</td>\n",
       "      <td>Haymarket Square</td>\n",
       "      <td>26.0</td>\n",
       "      <td>1.0</td>\n",
       "      <td>c2d88af2-d278-4bfd-a8d0-29ca77cc5512</td>\n",
       "      <td>lyft_luxsuv</td>\n",
       "      <td>Lux Black XL</td>\n",
       "    </tr>\n",
       "    <tr>\n",
       "      <th>4</th>\n",
       "      <td>0.44</td>\n",
       "      <td>Lyft</td>\n",
       "      <td>1543463360223</td>\n",
       "      <td>North Station</td>\n",
       "      <td>Haymarket Square</td>\n",
       "      <td>9.0</td>\n",
       "      <td>1.0</td>\n",
       "      <td>e0126e1f-8ca9-4f2e-82b3-50505a09db9a</td>\n",
       "      <td>lyft_plus</td>\n",
       "      <td>Lyft XL</td>\n",
       "    </tr>\n",
       "  </tbody>\n",
       "</table>\n",
       "</div>"
      ],
      "text/plain": [
       "   distance cab_type     time_stamp    destination            source  price  \\\n",
       "0      0.44     Lyft  1544952607890  North Station  Haymarket Square    5.0   \n",
       "1      0.44     Lyft  1543284023677  North Station  Haymarket Square   11.0   \n",
       "2      0.44     Lyft  1543366822198  North Station  Haymarket Square    7.0   \n",
       "3      0.44     Lyft  1543553582749  North Station  Haymarket Square   26.0   \n",
       "4      0.44     Lyft  1543463360223  North Station  Haymarket Square    9.0   \n",
       "\n",
       "   surge_multiplier                                    id    product_id  \\\n",
       "0               1.0  424553bb-7174-41ea-aeb4-fe06d4f4b9d7     lyft_line   \n",
       "1               1.0  4bd23055-6827-41c6-b23b-3c491f24e74d  lyft_premier   \n",
       "2               1.0  981a3613-77af-4620-a42a-0c0866077d1e          lyft   \n",
       "3               1.0  c2d88af2-d278-4bfd-a8d0-29ca77cc5512   lyft_luxsuv   \n",
       "4               1.0  e0126e1f-8ca9-4f2e-82b3-50505a09db9a     lyft_plus   \n",
       "\n",
       "           name  \n",
       "0        Shared  \n",
       "1           Lux  \n",
       "2          Lyft  \n",
       "3  Lux Black XL  \n",
       "4       Lyft XL  "
      ]
     },
     "execution_count": 3,
     "metadata": {},
     "output_type": "execute_result"
    }
   ],
   "source": [
    "# previewing df1 first five rows.\n",
    "df1.head()\n"
   ]
  },
  {
   "cell_type": "code",
   "execution_count": 4,
   "metadata": {},
   "outputs": [
    {
     "data": {
      "text/html": [
       "<div>\n",
       "<style scoped>\n",
       "    .dataframe tbody tr th:only-of-type {\n",
       "        vertical-align: middle;\n",
       "    }\n",
       "\n",
       "    .dataframe tbody tr th {\n",
       "        vertical-align: top;\n",
       "    }\n",
       "\n",
       "    .dataframe thead th {\n",
       "        text-align: right;\n",
       "    }\n",
       "</style>\n",
       "<table border=\"1\" class=\"dataframe\">\n",
       "  <thead>\n",
       "    <tr style=\"text-align: right;\">\n",
       "      <th></th>\n",
       "      <th>temp</th>\n",
       "      <th>location</th>\n",
       "      <th>clouds</th>\n",
       "      <th>pressure</th>\n",
       "      <th>rain</th>\n",
       "      <th>time_stamp</th>\n",
       "      <th>humidity</th>\n",
       "      <th>wind</th>\n",
       "    </tr>\n",
       "  </thead>\n",
       "  <tbody>\n",
       "    <tr>\n",
       "      <th>0</th>\n",
       "      <td>42.42</td>\n",
       "      <td>Back Bay</td>\n",
       "      <td>1.0</td>\n",
       "      <td>1012.14</td>\n",
       "      <td>0.1228</td>\n",
       "      <td>1545003901</td>\n",
       "      <td>0.77</td>\n",
       "      <td>11.25</td>\n",
       "    </tr>\n",
       "    <tr>\n",
       "      <th>1</th>\n",
       "      <td>42.43</td>\n",
       "      <td>Beacon Hill</td>\n",
       "      <td>1.0</td>\n",
       "      <td>1012.15</td>\n",
       "      <td>0.1846</td>\n",
       "      <td>1545003901</td>\n",
       "      <td>0.76</td>\n",
       "      <td>11.32</td>\n",
       "    </tr>\n",
       "    <tr>\n",
       "      <th>2</th>\n",
       "      <td>42.50</td>\n",
       "      <td>Boston University</td>\n",
       "      <td>1.0</td>\n",
       "      <td>1012.15</td>\n",
       "      <td>0.1089</td>\n",
       "      <td>1545003901</td>\n",
       "      <td>0.76</td>\n",
       "      <td>11.07</td>\n",
       "    </tr>\n",
       "    <tr>\n",
       "      <th>3</th>\n",
       "      <td>42.11</td>\n",
       "      <td>Fenway</td>\n",
       "      <td>1.0</td>\n",
       "      <td>1012.13</td>\n",
       "      <td>0.0969</td>\n",
       "      <td>1545003901</td>\n",
       "      <td>0.77</td>\n",
       "      <td>11.09</td>\n",
       "    </tr>\n",
       "    <tr>\n",
       "      <th>4</th>\n",
       "      <td>43.13</td>\n",
       "      <td>Financial District</td>\n",
       "      <td>1.0</td>\n",
       "      <td>1012.14</td>\n",
       "      <td>0.1786</td>\n",
       "      <td>1545003901</td>\n",
       "      <td>0.75</td>\n",
       "      <td>11.49</td>\n",
       "    </tr>\n",
       "  </tbody>\n",
       "</table>\n",
       "</div>"
      ],
      "text/plain": [
       "    temp            location  clouds  pressure    rain  time_stamp  humidity  \\\n",
       "0  42.42            Back Bay     1.0   1012.14  0.1228  1545003901      0.77   \n",
       "1  42.43         Beacon Hill     1.0   1012.15  0.1846  1545003901      0.76   \n",
       "2  42.50   Boston University     1.0   1012.15  0.1089  1545003901      0.76   \n",
       "3  42.11              Fenway     1.0   1012.13  0.0969  1545003901      0.77   \n",
       "4  43.13  Financial District     1.0   1012.14  0.1786  1545003901      0.75   \n",
       "\n",
       "    wind  \n",
       "0  11.25  \n",
       "1  11.32  \n",
       "2  11.07  \n",
       "3  11.09  \n",
       "4  11.49  "
      ]
     },
     "execution_count": 4,
     "metadata": {},
     "output_type": "execute_result"
    }
   ],
   "source": [
    "# previewing df2 first five rows.\n",
    "df2.head()"
   ]
  },
  {
   "cell_type": "code",
   "execution_count": 5,
   "metadata": {},
   "outputs": [
    {
     "data": {
      "text/html": [
       "<div>\n",
       "<style scoped>\n",
       "    .dataframe tbody tr th:only-of-type {\n",
       "        vertical-align: middle;\n",
       "    }\n",
       "\n",
       "    .dataframe tbody tr th {\n",
       "        vertical-align: top;\n",
       "    }\n",
       "\n",
       "    .dataframe thead th {\n",
       "        text-align: right;\n",
       "    }\n",
       "</style>\n",
       "<table border=\"1\" class=\"dataframe\">\n",
       "  <thead>\n",
       "    <tr style=\"text-align: right;\">\n",
       "      <th></th>\n",
       "      <th>distance</th>\n",
       "      <th>cab_type</th>\n",
       "      <th>time_stamp</th>\n",
       "      <th>destination</th>\n",
       "      <th>source</th>\n",
       "      <th>price</th>\n",
       "      <th>surge_multiplier</th>\n",
       "      <th>id</th>\n",
       "      <th>product_id</th>\n",
       "      <th>name</th>\n",
       "      <th>date_time</th>\n",
       "    </tr>\n",
       "  </thead>\n",
       "  <tbody>\n",
       "    <tr>\n",
       "      <th>0</th>\n",
       "      <td>0.44</td>\n",
       "      <td>Lyft</td>\n",
       "      <td>1544952607890</td>\n",
       "      <td>North Station</td>\n",
       "      <td>Haymarket Square</td>\n",
       "      <td>5.0</td>\n",
       "      <td>1.0</td>\n",
       "      <td>424553bb-7174-41ea-aeb4-fe06d4f4b9d7</td>\n",
       "      <td>lyft_line</td>\n",
       "      <td>Shared</td>\n",
       "      <td>2018-12-16 09:30:07.890000128</td>\n",
       "    </tr>\n",
       "    <tr>\n",
       "      <th>1</th>\n",
       "      <td>0.44</td>\n",
       "      <td>Lyft</td>\n",
       "      <td>1543284023677</td>\n",
       "      <td>North Station</td>\n",
       "      <td>Haymarket Square</td>\n",
       "      <td>11.0</td>\n",
       "      <td>1.0</td>\n",
       "      <td>4bd23055-6827-41c6-b23b-3c491f24e74d</td>\n",
       "      <td>lyft_premier</td>\n",
       "      <td>Lux</td>\n",
       "      <td>2018-11-27 02:00:23.676999936</td>\n",
       "    </tr>\n",
       "    <tr>\n",
       "      <th>2</th>\n",
       "      <td>0.44</td>\n",
       "      <td>Lyft</td>\n",
       "      <td>1543366822198</td>\n",
       "      <td>North Station</td>\n",
       "      <td>Haymarket Square</td>\n",
       "      <td>7.0</td>\n",
       "      <td>1.0</td>\n",
       "      <td>981a3613-77af-4620-a42a-0c0866077d1e</td>\n",
       "      <td>lyft</td>\n",
       "      <td>Lyft</td>\n",
       "      <td>2018-11-28 01:00:22.197999872</td>\n",
       "    </tr>\n",
       "    <tr>\n",
       "      <th>3</th>\n",
       "      <td>0.44</td>\n",
       "      <td>Lyft</td>\n",
       "      <td>1543553582749</td>\n",
       "      <td>North Station</td>\n",
       "      <td>Haymarket Square</td>\n",
       "      <td>26.0</td>\n",
       "      <td>1.0</td>\n",
       "      <td>c2d88af2-d278-4bfd-a8d0-29ca77cc5512</td>\n",
       "      <td>lyft_luxsuv</td>\n",
       "      <td>Lux Black XL</td>\n",
       "      <td>2018-11-30 04:53:02.749000192</td>\n",
       "    </tr>\n",
       "    <tr>\n",
       "      <th>4</th>\n",
       "      <td>0.44</td>\n",
       "      <td>Lyft</td>\n",
       "      <td>1543463360223</td>\n",
       "      <td>North Station</td>\n",
       "      <td>Haymarket Square</td>\n",
       "      <td>9.0</td>\n",
       "      <td>1.0</td>\n",
       "      <td>e0126e1f-8ca9-4f2e-82b3-50505a09db9a</td>\n",
       "      <td>lyft_plus</td>\n",
       "      <td>Lyft XL</td>\n",
       "      <td>2018-11-29 03:49:20.223000064</td>\n",
       "    </tr>\n",
       "  </tbody>\n",
       "</table>\n",
       "</div>"
      ],
      "text/plain": [
       "   distance cab_type     time_stamp    destination            source  price  \\\n",
       "0      0.44     Lyft  1544952607890  North Station  Haymarket Square    5.0   \n",
       "1      0.44     Lyft  1543284023677  North Station  Haymarket Square   11.0   \n",
       "2      0.44     Lyft  1543366822198  North Station  Haymarket Square    7.0   \n",
       "3      0.44     Lyft  1543553582749  North Station  Haymarket Square   26.0   \n",
       "4      0.44     Lyft  1543463360223  North Station  Haymarket Square    9.0   \n",
       "\n",
       "   surge_multiplier                                    id    product_id  \\\n",
       "0               1.0  424553bb-7174-41ea-aeb4-fe06d4f4b9d7     lyft_line   \n",
       "1               1.0  4bd23055-6827-41c6-b23b-3c491f24e74d  lyft_premier   \n",
       "2               1.0  981a3613-77af-4620-a42a-0c0866077d1e          lyft   \n",
       "3               1.0  c2d88af2-d278-4bfd-a8d0-29ca77cc5512   lyft_luxsuv   \n",
       "4               1.0  e0126e1f-8ca9-4f2e-82b3-50505a09db9a     lyft_plus   \n",
       "\n",
       "           name                     date_time  \n",
       "0        Shared 2018-12-16 09:30:07.890000128  \n",
       "1           Lux 2018-11-27 02:00:23.676999936  \n",
       "2          Lyft 2018-11-28 01:00:22.197999872  \n",
       "3  Lux Black XL 2018-11-30 04:53:02.749000192  \n",
       "4       Lyft XL 2018-11-29 03:49:20.223000064  "
      ]
     },
     "execution_count": 5,
     "metadata": {},
     "output_type": "execute_result"
    }
   ],
   "source": [
    "#changing date time\n",
    "df1['date_time'] = pd.to_datetime(df1['time_stamp']/1000, unit='s')\n",
    "df2['date_time'] = pd.to_datetime(df2['time_stamp'], unit='s')\n",
    "df1.head()"
   ]
  },
  {
   "cell_type": "code",
   "execution_count": 6,
   "metadata": {},
   "outputs": [],
   "source": [
    "#merge the datasets to refelect same time for a location\n",
    "df1['merge_date'] = df1.source.astype(str) +\" - \"+ df1.date_time.dt.date.astype(\"str\") +\" - \"+ df1.date_time.dt.hour.astype(\"str\")\n",
    "df2['merge_date'] = df2.location.astype(str) +\" - \"+ df2.date_time.dt.date.astype(\"str\") +\" - \"+ df2.date_time.dt.hour.astype(\"str\")"
   ]
  },
  {
   "cell_type": "code",
   "execution_count": 7,
   "metadata": {},
   "outputs": [],
   "source": [
    "#previewing the index\n",
    "df2.index = df2['merge_date']"
   ]
  },
  {
   "cell_type": "code",
   "execution_count": 8,
   "metadata": {},
   "outputs": [],
   "source": [
    "#merging the data sets\n",
    "merged_df = df1.join(df2,on=['merge_date'],rsuffix ='_w')"
   ]
  },
  {
   "cell_type": "code",
   "execution_count": 9,
   "metadata": {},
   "outputs": [
    {
     "data": {
      "text/html": [
       "<div>\n",
       "<style scoped>\n",
       "    .dataframe tbody tr th:only-of-type {\n",
       "        vertical-align: middle;\n",
       "    }\n",
       "\n",
       "    .dataframe tbody tr th {\n",
       "        vertical-align: top;\n",
       "    }\n",
       "\n",
       "    .dataframe thead th {\n",
       "        text-align: right;\n",
       "    }\n",
       "</style>\n",
       "<table border=\"1\" class=\"dataframe\">\n",
       "  <thead>\n",
       "    <tr style=\"text-align: right;\">\n",
       "      <th></th>\n",
       "      <th>distance</th>\n",
       "      <th>cab_type</th>\n",
       "      <th>time_stamp</th>\n",
       "      <th>destination</th>\n",
       "      <th>source</th>\n",
       "      <th>price</th>\n",
       "      <th>surge_multiplier</th>\n",
       "      <th>id</th>\n",
       "      <th>product_id</th>\n",
       "      <th>name</th>\n",
       "      <th>...</th>\n",
       "      <th>temp</th>\n",
       "      <th>location</th>\n",
       "      <th>clouds</th>\n",
       "      <th>pressure</th>\n",
       "      <th>rain</th>\n",
       "      <th>time_stamp_w</th>\n",
       "      <th>humidity</th>\n",
       "      <th>wind</th>\n",
       "      <th>date_time_w</th>\n",
       "      <th>merge_date_w</th>\n",
       "    </tr>\n",
       "  </thead>\n",
       "  <tbody>\n",
       "    <tr>\n",
       "      <th>0</th>\n",
       "      <td>0.44</td>\n",
       "      <td>Lyft</td>\n",
       "      <td>1544952607890</td>\n",
       "      <td>North Station</td>\n",
       "      <td>Haymarket Square</td>\n",
       "      <td>5.0</td>\n",
       "      <td>1.0</td>\n",
       "      <td>424553bb-7174-41ea-aeb4-fe06d4f4b9d7</td>\n",
       "      <td>lyft_line</td>\n",
       "      <td>Shared</td>\n",
       "      <td>...</td>\n",
       "      <td>38.46</td>\n",
       "      <td>Haymarket Square</td>\n",
       "      <td>0.29</td>\n",
       "      <td>1022.25</td>\n",
       "      <td>NaN</td>\n",
       "      <td>1.544954e+09</td>\n",
       "      <td>0.76</td>\n",
       "      <td>7.68</td>\n",
       "      <td>2018-12-16 09:45:01</td>\n",
       "      <td>Haymarket Square - 2018-12-16 - 9</td>\n",
       "    </tr>\n",
       "    <tr>\n",
       "      <th>1</th>\n",
       "      <td>0.44</td>\n",
       "      <td>Lyft</td>\n",
       "      <td>1543284023677</td>\n",
       "      <td>North Station</td>\n",
       "      <td>Haymarket Square</td>\n",
       "      <td>11.0</td>\n",
       "      <td>1.0</td>\n",
       "      <td>4bd23055-6827-41c6-b23b-3c491f24e74d</td>\n",
       "      <td>lyft_premier</td>\n",
       "      <td>Lux</td>\n",
       "      <td>...</td>\n",
       "      <td>44.31</td>\n",
       "      <td>Haymarket Square</td>\n",
       "      <td>1.00</td>\n",
       "      <td>1003.17</td>\n",
       "      <td>0.1123</td>\n",
       "      <td>1.543285e+09</td>\n",
       "      <td>0.90</td>\n",
       "      <td>13.69</td>\n",
       "      <td>2018-11-27 02:15:20</td>\n",
       "      <td>Haymarket Square - 2018-11-27 - 2</td>\n",
       "    </tr>\n",
       "    <tr>\n",
       "      <th>1</th>\n",
       "      <td>0.44</td>\n",
       "      <td>Lyft</td>\n",
       "      <td>1543284023677</td>\n",
       "      <td>North Station</td>\n",
       "      <td>Haymarket Square</td>\n",
       "      <td>11.0</td>\n",
       "      <td>1.0</td>\n",
       "      <td>4bd23055-6827-41c6-b23b-3c491f24e74d</td>\n",
       "      <td>lyft_premier</td>\n",
       "      <td>Lux</td>\n",
       "      <td>...</td>\n",
       "      <td>43.82</td>\n",
       "      <td>Haymarket Square</td>\n",
       "      <td>0.99</td>\n",
       "      <td>1002.59</td>\n",
       "      <td>0.0997</td>\n",
       "      <td>1.543287e+09</td>\n",
       "      <td>0.89</td>\n",
       "      <td>11.57</td>\n",
       "      <td>2018-11-27 02:45:20</td>\n",
       "      <td>Haymarket Square - 2018-11-27 - 2</td>\n",
       "    </tr>\n",
       "    <tr>\n",
       "      <th>2</th>\n",
       "      <td>0.44</td>\n",
       "      <td>Lyft</td>\n",
       "      <td>1543366822198</td>\n",
       "      <td>North Station</td>\n",
       "      <td>Haymarket Square</td>\n",
       "      <td>7.0</td>\n",
       "      <td>1.0</td>\n",
       "      <td>981a3613-77af-4620-a42a-0c0866077d1e</td>\n",
       "      <td>lyft</td>\n",
       "      <td>Lyft</td>\n",
       "      <td>...</td>\n",
       "      <td>NaN</td>\n",
       "      <td>NaN</td>\n",
       "      <td>NaN</td>\n",
       "      <td>NaN</td>\n",
       "      <td>NaN</td>\n",
       "      <td>NaN</td>\n",
       "      <td>NaN</td>\n",
       "      <td>NaN</td>\n",
       "      <td>NaT</td>\n",
       "      <td>NaN</td>\n",
       "    </tr>\n",
       "    <tr>\n",
       "      <th>3</th>\n",
       "      <td>0.44</td>\n",
       "      <td>Lyft</td>\n",
       "      <td>1543553582749</td>\n",
       "      <td>North Station</td>\n",
       "      <td>Haymarket Square</td>\n",
       "      <td>26.0</td>\n",
       "      <td>1.0</td>\n",
       "      <td>c2d88af2-d278-4bfd-a8d0-29ca77cc5512</td>\n",
       "      <td>lyft_luxsuv</td>\n",
       "      <td>Lux Black XL</td>\n",
       "      <td>...</td>\n",
       "      <td>35.08</td>\n",
       "      <td>Haymarket Square</td>\n",
       "      <td>0.00</td>\n",
       "      <td>1013.71</td>\n",
       "      <td>NaN</td>\n",
       "      <td>1.543554e+09</td>\n",
       "      <td>0.70</td>\n",
       "      <td>5.25</td>\n",
       "      <td>2018-11-30 04:52:54</td>\n",
       "      <td>Haymarket Square - 2018-11-30 - 4</td>\n",
       "    </tr>\n",
       "  </tbody>\n",
       "</table>\n",
       "<p>5 rows × 22 columns</p>\n",
       "</div>"
      ],
      "text/plain": [
       "   distance cab_type     time_stamp    destination            source  price  \\\n",
       "0      0.44     Lyft  1544952607890  North Station  Haymarket Square    5.0   \n",
       "1      0.44     Lyft  1543284023677  North Station  Haymarket Square   11.0   \n",
       "1      0.44     Lyft  1543284023677  North Station  Haymarket Square   11.0   \n",
       "2      0.44     Lyft  1543366822198  North Station  Haymarket Square    7.0   \n",
       "3      0.44     Lyft  1543553582749  North Station  Haymarket Square   26.0   \n",
       "\n",
       "   surge_multiplier                                    id    product_id  \\\n",
       "0               1.0  424553bb-7174-41ea-aeb4-fe06d4f4b9d7     lyft_line   \n",
       "1               1.0  4bd23055-6827-41c6-b23b-3c491f24e74d  lyft_premier   \n",
       "1               1.0  4bd23055-6827-41c6-b23b-3c491f24e74d  lyft_premier   \n",
       "2               1.0  981a3613-77af-4620-a42a-0c0866077d1e          lyft   \n",
       "3               1.0  c2d88af2-d278-4bfd-a8d0-29ca77cc5512   lyft_luxsuv   \n",
       "\n",
       "           name  ...   temp          location  clouds pressure    rain  \\\n",
       "0        Shared  ...  38.46  Haymarket Square    0.29  1022.25     NaN   \n",
       "1           Lux  ...  44.31  Haymarket Square    1.00  1003.17  0.1123   \n",
       "1           Lux  ...  43.82  Haymarket Square    0.99  1002.59  0.0997   \n",
       "2          Lyft  ...    NaN               NaN     NaN      NaN     NaN   \n",
       "3  Lux Black XL  ...  35.08  Haymarket Square    0.00  1013.71     NaN   \n",
       "\n",
       "   time_stamp_w  humidity   wind         date_time_w  \\\n",
       "0  1.544954e+09      0.76   7.68 2018-12-16 09:45:01   \n",
       "1  1.543285e+09      0.90  13.69 2018-11-27 02:15:20   \n",
       "1  1.543287e+09      0.89  11.57 2018-11-27 02:45:20   \n",
       "2           NaN       NaN    NaN                 NaT   \n",
       "3  1.543554e+09      0.70   5.25 2018-11-30 04:52:54   \n",
       "\n",
       "                        merge_date_w  \n",
       "0  Haymarket Square - 2018-12-16 - 9  \n",
       "1  Haymarket Square - 2018-11-27 - 2  \n",
       "1  Haymarket Square - 2018-11-27 - 2  \n",
       "2                                NaN  \n",
       "3  Haymarket Square - 2018-11-30 - 4  \n",
       "\n",
       "[5 rows x 22 columns]"
      ]
     },
     "execution_count": 9,
     "metadata": {},
     "output_type": "execute_result"
    }
   ],
   "source": [
    "#previewing the merged dataset\n",
    "merged_df.head()"
   ]
  },
  {
   "cell_type": "markdown",
   "metadata": {},
   "source": [
    "## Data Cleaning.\n",
    "Data cleaning is the process of removing errors and inconsistencies from data. Data cleaning is an important step in data preparation, as it can help to improve the accuracy and reliability of the data. There are many different techniques that can be used to clean data, including removing duplicate records, correcting errors, and filling in missing values."
   ]
  },
  {
   "cell_type": "code",
   "execution_count": 10,
   "metadata": {},
   "outputs": [
    {
     "data": {
      "text/plain": [
       "distance                  0\n",
       "cab_type                  0\n",
       "time_stamp                0\n",
       "destination               0\n",
       "source                    0\n",
       "price                100909\n",
       "surge_multiplier          0\n",
       "id                        0\n",
       "product_id                0\n",
       "name                      0\n",
       "date_time                 0\n",
       "merge_date                0\n",
       "temp                   2964\n",
       "location               2964\n",
       "clouds                 2964\n",
       "pressure               2964\n",
       "rain                1061692\n",
       "time_stamp_w           2964\n",
       "humidity               2964\n",
       "wind                   2964\n",
       "date_time_w            2964\n",
       "merge_date_w           2964\n",
       "dtype: int64"
      ]
     },
     "execution_count": 10,
     "metadata": {},
     "output_type": "execute_result"
    }
   ],
   "source": [
    "#checking for missing values\n",
    "merged_df.isna().sum()"
   ]
  },
  {
   "cell_type": "markdown",
   "metadata": {},
   "source": [
    "From the above description, we can see that;\n",
    "* The price column has 100909 missing values.\n",
    "* Wind has 2964 missing values.\n",
    "* Temperature has 2964 missing values.\n",
    "* Humidity has 2964 missing values.\n",
    "* Cloudiness has 2964 missing values.\n",
    "* Rain has largest amount of missing values."
   ]
  },
  {
   "cell_type": "markdown",
   "metadata": {},
   "source": [
    "#### Dealing with Missing values\n",
    "* Fill the missing values in the rain column with 0, assuming that it will represent that it didnt rain that day. \n",
    "* Fill the missing values in the price column with the median value. \n",
    "* Drop the remaining missing values. "
   ]
  },
  {
   "cell_type": "code",
   "execution_count": 11,
   "metadata": {},
   "outputs": [],
   "source": [
    "#filling missing values in the rain columns\n",
    "merged_df['rain'].fillna(0,inplace=True)"
   ]
  },
  {
   "cell_type": "code",
   "execution_count": 12,
   "metadata": {},
   "outputs": [],
   "source": [
    "# Dealing with missing values in other columns\n",
    "merged_df = merged_df[pd.notnull(merged_df['date_time_w'])]"
   ]
  },
  {
   "cell_type": "code",
   "execution_count": 13,
   "metadata": {},
   "outputs": [],
   "source": [
    "#Dealing with missing values in price column\n",
    "merged_df = merged_df[pd.notnull(merged_df['price'])]"
   ]
  },
  {
   "cell_type": "code",
   "execution_count": 14,
   "metadata": {},
   "outputs": [],
   "source": [
    "# day of the week\n",
    "merged_df['day'] = merged_df.date_time.dt.dayofweek"
   ]
  },
  {
   "cell_type": "code",
   "execution_count": 15,
   "metadata": {},
   "outputs": [],
   "source": [
    "# converting into hours\n",
    "merged_df['hour'] = merged_df.date_time.dt.hour"
   ]
  },
  {
   "cell_type": "code",
   "execution_count": 16,
   "metadata": {},
   "outputs": [
    {
     "data": {
      "text/plain": [
       "count    1.164996e+06\n",
       "mean     2.388427e+00\n",
       "std      1.743907e+00\n",
       "min      0.000000e+00\n",
       "25%      1.000000e+00\n",
       "50%      2.000000e+00\n",
       "75%      3.000000e+00\n",
       "max      6.000000e+00\n",
       "Name: day, dtype: float64"
      ]
     },
     "execution_count": 16,
     "metadata": {},
     "output_type": "execute_result"
    }
   ],
   "source": [
    "#describing the day column\n",
    "merged_df['day'].describe()\n"
   ]
  },
  {
   "cell_type": "code",
   "execution_count": 17,
   "metadata": {},
   "outputs": [
    {
     "data": {
      "text/plain": [
       "Index(['distance', 'cab_type', 'time_stamp', 'destination', 'source', 'price',\n",
       "       'surge_multiplier', 'id', 'product_id', 'name', 'date_time',\n",
       "       'merge_date', 'temp', 'location', 'clouds', 'pressure', 'rain',\n",
       "       'time_stamp_w', 'humidity', 'wind', 'date_time_w', 'merge_date_w',\n",
       "       'day', 'hour'],\n",
       "      dtype='object')"
      ]
     },
     "execution_count": 17,
     "metadata": {},
     "output_type": "execute_result"
    }
   ],
   "source": [
    "#previewing the columns in the merged dataframe.\n",
    "merged_df.columns"
   ]
  },
  {
   "cell_type": "code",
   "execution_count": 18,
   "metadata": {},
   "outputs": [
    {
     "data": {
      "text/plain": [
       "distance            1164996\n",
       "cab_type            1164996\n",
       "time_stamp          1164996\n",
       "destination         1164996\n",
       "source              1164996\n",
       "price               1164996\n",
       "surge_multiplier    1164996\n",
       "id                  1164996\n",
       "product_id          1164996\n",
       "name                1164996\n",
       "date_time           1164996\n",
       "merge_date          1164996\n",
       "temp                1164996\n",
       "location            1164996\n",
       "clouds              1164996\n",
       "pressure            1164996\n",
       "rain                1164996\n",
       "time_stamp_w        1164996\n",
       "humidity            1164996\n",
       "wind                1164996\n",
       "date_time_w         1164996\n",
       "merge_date_w        1164996\n",
       "day                 1164996\n",
       "hour                1164996\n",
       "dtype: int64"
      ]
     },
     "execution_count": 18,
     "metadata": {},
     "output_type": "execute_result"
    }
   ],
   "source": [
    "#viewing the count\n",
    "merged_df.count()"
   ]
  },
  {
   "cell_type": "code",
   "execution_count": 19,
   "metadata": {},
   "outputs": [],
   "source": [
    "# creating sample of the data\n",
    "sample_data = merged_df.sample(n = 1000)"
   ]
  },
  {
   "cell_type": "code",
   "execution_count": 20,
   "metadata": {},
   "outputs": [],
   "source": [
    "#assigning the merged df to sample data\n",
    "merged_df = sample_data"
   ]
  },
  {
   "cell_type": "markdown",
   "metadata": {},
   "source": [
    "## Exploratory Data Analysis\n",
    "\n",
    "In this section, I will perform exploratory data analysis (EDA) to understand the data better and discover any patterns, trends, or outliers that may exist.\n",
    "\n",
    "We will use descriptive statistics and visualizations to summarize the data and examine the relationships between the predictors and the target variable. \n",
    "\n",
    "We will check whether the distribution is normal and the correlation of variables and identify the potential merits or problems for the data analysis."
   ]
  },
  {
   "cell_type": "markdown",
   "metadata": {},
   "source": [
    "### Univariate Analysis\n",
    "\n",
    "This refers to analysis of one variable. Its purpose is to understand the distribution of values for a single variable. The most common way to use the analysis to describe a variable using summary statistics that is measures of central tendency eg mean, median, mode etc."
   ]
  },
  {
   "cell_type": "markdown",
   "metadata": {},
   "source": [
    "For this analysis we will conduct the summary statistics of the target variable - **price** because it will help to understand the distribution of the cab prices in the dataset and detect any outliers that may affect the analysis. This analysis can also help compare the price variable with other predictors and evaluate the performance of the regression models."
   ]
  },
  {
   "cell_type": "code",
   "execution_count": 21,
   "metadata": {},
   "outputs": [
    {
     "data": {
      "image/png": "[encoded data removed]",
      "text/plain": [
       "<Figure size 1500x600 with 1 Axes>"
      ]
     },
     "metadata": {},
     "output_type": "display_data"
    }
   ],
   "source": [
    "# creating the visualizations to preview price against time\n",
    "plt.figure(figsize=(15, 6))\n",
    "ax = sns.scatterplot(x='distance',y='price',data=merged_df)\n",
    "ax.set_title(\"price against distance\")\n",
    "ax.set_xlabel('distance')\n",
    "ax.set_ylabel('price');"
   ]
  },
  {
   "cell_type": "markdown",
   "metadata": {},
   "source": [
    "The visualization shows a scatter plot of the relationship between price and distance. The x-axis represents the distance from the city center, and the y-axis represents the cab price. The plot shows that there is a positive correlation between price and distance, meaning that cab prices that are further from the city center are more expensive. "
   ]
  },
  {
   "cell_type": "code",
   "execution_count": 22,
   "metadata": {},
   "outputs": [
    {
     "data": {
      "image/png": "[encoded data removed]",
      "text/plain": [
       "<Figure size 1500x600 with 1 Axes>"
      ]
     },
     "metadata": {},
     "output_type": "display_data"
    }
   ],
   "source": [
    "# visualizing price against temperature\n",
    "plt.figure(figsize=(15, 6))\n",
    "ax = sns.scatterplot(x='temp',y='price',data=merged_df)\n",
    "ax.set_title(\"Price against temperature\")\n",
    "ax.set_xlabel('Temp')\n",
    "ax.set_ylabel('price');"
   ]
  },
  {
   "cell_type": "markdown",
   "metadata": {},
   "source": [
    "\n",
    "The visualization shows a scatter plot of the relationship between price and temperature. The x-axis represents the average temperature in the city, and the y-axis represents the cab price. The plot shows that there is a negative correlation between price and temperature, meaning cab prices in warmer climates are more expensive."
   ]
  },
  {
   "cell_type": "code",
   "execution_count": 23,
   "metadata": {},
   "outputs": [
    {
     "data": {
      "image/png": "[encoded data removed]",
      "text/plain": [
       "<Figure size 640x480 with 2 Axes>"
      ]
     },
     "metadata": {},
     "output_type": "display_data"
    }
   ],
   "source": [
    "# assuming you have a DataFrame called df with columns 'temperature' and 'price'\n",
    "heatmap_data = merged_df.groupby(['temp', 'price']).size().reset_index(name='count')\n",
    "heatmap_data = heatmap_data.pivot('temp', 'price', 'count')\n",
    "sns.heatmap(heatmap_data, vmin=0, vmax=5);"
   ]
  },
  {
   "cell_type": "markdown",
   "metadata": {},
   "source": [
    "The heatmap shows the relationship between price and temperature. The x-axis represents the average temperature in the city, and the y-axis represents the cab prices.The heatmap shows that there is a negative correlation between price and temperature, meaning that cab prices in warmer climates are more expensive."
   ]
  },
  {
   "cell_type": "code",
   "execution_count": 24,
   "metadata": {},
   "outputs": [
    {
     "data": {
      "image/png": "[encoded data removed]",
      "text/plain": [
       "<Figure size 1500x600 with 1 Axes>"
      ]
     },
     "metadata": {},
     "output_type": "display_data"
    }
   ],
   "source": [
    "#visualizing price against rain\n",
    "plt.figure(figsize=(15, 6))\n",
    "ax = sns.scatterplot(x='rain',y='price',data=merged_df)\n",
    "ax.set_title(\"price against rain\")\n",
    "ax.set_xlabel('Rain')\n",
    "ax.set_ylabel('price');"
   ]
  },
  {
   "cell_type": "markdown",
   "metadata": {},
   "source": [
    "The visualization shows a scatter plot of the relationship between price and rain. The x-axis represents the average rainfall in the city, and the y-axis represents the price of cab. The plot shows that there is a negative correlation between price and rain, meaning that cab prices in cities with more rain are less expensive."
   ]
  },
  {
   "cell_type": "code",
   "execution_count": 25,
   "metadata": {},
   "outputs": [
    {
     "data": {
      "image/png": "[encoded data removed]",
      "text/plain": [
       "<Figure size 1200x1000 with 1 Axes>"
      ]
     },
     "metadata": {},
     "output_type": "display_data"
    }
   ],
   "source": [
    "#visualizing price against hours\n",
    "plt.figure(figsize=(12, 10))\n",
    "\n",
    "ax = sns.scatterplot(x='hour',y='price',data=merged_df)\n",
    "ax.set_title(\"price against hour\")\n",
    "ax.set_xlabel('hour')\n",
    "ax.set_ylabel('price');"
   ]
  },
  {
   "cell_type": "markdown",
   "metadata": {},
   "source": [
    "The visualization shows a scatter plot of the relationship between price and hour. The x-axis represents the hour of the day, and the y-axis represents the price of the cab. The plot shows that there is a slight positive correlation between price and hour, meaning that cab prices are more expensive in the evening and night."
   ]
  },
  {
   "cell_type": "code",
   "execution_count": 26,
   "metadata": {},
   "outputs": [
    {
     "data": {
      "image/png": "[encoded data removed]",
      "text/plain": [
       "<Figure size 1000x500 with 1 Axes>"
      ]
     },
     "metadata": {},
     "output_type": "display_data"
    }
   ],
   "source": [
    "#visualizing count distribution of varius cab types\n",
    "plt.figure(figsize=(10, 5))\n",
    "ax=sns.countplot(x='cab_type', data=merged_df)\n",
    "ax.set_title('Count Distribution of the Cab_type');"
   ]
  },
  {
   "cell_type": "markdown",
   "metadata": {},
   "source": [
    "The visualization shows the count distribution of the cab_type variable. The x-axis represents the cab_type variable, and the y-axis represents the count of each cab_type. The plot shows that the most common cab_type is the uber, followed by the Lyft. "
   ]
  },
  {
   "cell_type": "code",
   "execution_count": 27,
   "metadata": {},
   "outputs": [
    {
     "data": {
      "image/png": "[encoded data removed]",
      "text/plain": [
       "<Figure size 1200x800 with 1 Axes>"
      ]
     },
     "metadata": {},
     "output_type": "display_data"
    }
   ],
   "source": [
    "# visualizing count distribution of cab name\n",
    "plt.figure(figsize=(12, 8))\n",
    "ax=sns.countplot(x='name', data=merged_df)\n",
    "ax.set_title('Count Distribution of cab name');"
   ]
  },
  {
   "cell_type": "markdown",
   "metadata": {},
   "source": [
    "The visualization shows the count distribution of the cab name variable. The x-axis represents the cab name variable, and the y-axis represents the count of each cab name. The plot shows that the most common cab name is the Black sedan, followed by the LyftXl. "
   ]
  },
  {
   "cell_type": "code",
   "execution_count": 28,
   "metadata": {},
   "outputs": [],
   "source": [
    "#selecting the x variable\n",
    "X = merged_df[['day','distance','cab_type','name','surge_multiplier', 'hour','temp','clouds', 'pressure','humidity', 'wind', 'rain']]\n"
   ]
  },
  {
   "cell_type": "code",
   "execution_count": 29,
   "metadata": {},
   "outputs": [
    {
     "data": {
      "text/plain": [
       "day                 1000\n",
       "distance            1000\n",
       "cab_type            1000\n",
       "name                1000\n",
       "surge_multiplier    1000\n",
       "hour                1000\n",
       "temp                1000\n",
       "clouds              1000\n",
       "pressure            1000\n",
       "humidity            1000\n",
       "wind                1000\n",
       "rain                1000\n",
       "dtype: int64"
      ]
     },
     "execution_count": 29,
     "metadata": {},
     "output_type": "execute_result"
    }
   ],
   "source": [
    "#viewing the count of x variable\n",
    "X.count()"
   ]
  },
  {
   "cell_type": "code",
   "execution_count": 30,
   "metadata": {},
   "outputs": [
    {
     "data": {
      "text/plain": [
       "1000"
      ]
     },
     "execution_count": 30,
     "metadata": {},
     "output_type": "execute_result"
    }
   ],
   "source": [
    "#selecting y variable\n",
    "y = merged_df['price'] \n",
    "y.count()"
   ]
  },
  {
   "cell_type": "code",
   "execution_count": 31,
   "metadata": {},
   "outputs": [],
   "source": [
    "#reseting the index\n",
    "X.reset_index(inplace=True)\n",
    "X = X.drop(columns=['index'])"
   ]
  },
  {
   "cell_type": "code",
   "execution_count": 32,
   "metadata": {},
   "outputs": [
    {
     "data": {
      "text/html": [
       "<div>\n",
       "<style scoped>\n",
       "    .dataframe tbody tr th:only-of-type {\n",
       "        vertical-align: middle;\n",
       "    }\n",
       "\n",
       "    .dataframe tbody tr th {\n",
       "        vertical-align: top;\n",
       "    }\n",
       "\n",
       "    .dataframe thead th {\n",
       "        text-align: right;\n",
       "    }\n",
       "</style>\n",
       "<table border=\"1\" class=\"dataframe\">\n",
       "  <thead>\n",
       "    <tr style=\"text-align: right;\">\n",
       "      <th></th>\n",
       "      <th>day</th>\n",
       "      <th>distance</th>\n",
       "      <th>cab_type</th>\n",
       "      <th>name</th>\n",
       "      <th>surge_multiplier</th>\n",
       "      <th>hour</th>\n",
       "      <th>temp</th>\n",
       "      <th>clouds</th>\n",
       "      <th>pressure</th>\n",
       "      <th>humidity</th>\n",
       "      <th>wind</th>\n",
       "      <th>rain</th>\n",
       "    </tr>\n",
       "  </thead>\n",
       "  <tbody>\n",
       "    <tr>\n",
       "      <th>0</th>\n",
       "      <td>3</td>\n",
       "      <td>1.41</td>\n",
       "      <td>Uber</td>\n",
       "      <td>Black</td>\n",
       "      <td>1.0</td>\n",
       "      <td>1</td>\n",
       "      <td>38.54</td>\n",
       "      <td>0.55</td>\n",
       "      <td>997.79</td>\n",
       "      <td>0.70</td>\n",
       "      <td>10.20</td>\n",
       "      <td>0.0000</td>\n",
       "    </tr>\n",
       "    <tr>\n",
       "      <th>1</th>\n",
       "      <td>3</td>\n",
       "      <td>0.72</td>\n",
       "      <td>Lyft</td>\n",
       "      <td>Lyft</td>\n",
       "      <td>1.0</td>\n",
       "      <td>15</td>\n",
       "      <td>43.66</td>\n",
       "      <td>0.59</td>\n",
       "      <td>1006.74</td>\n",
       "      <td>0.54</td>\n",
       "      <td>11.36</td>\n",
       "      <td>0.0000</td>\n",
       "    </tr>\n",
       "    <tr>\n",
       "      <th>2</th>\n",
       "      <td>1</td>\n",
       "      <td>1.09</td>\n",
       "      <td>Lyft</td>\n",
       "      <td>Lux Black XL</td>\n",
       "      <td>1.0</td>\n",
       "      <td>1</td>\n",
       "      <td>44.01</td>\n",
       "      <td>0.99</td>\n",
       "      <td>1005.39</td>\n",
       "      <td>0.90</td>\n",
       "      <td>11.24</td>\n",
       "      <td>0.2724</td>\n",
       "    </tr>\n",
       "    <tr>\n",
       "      <th>3</th>\n",
       "      <td>0</td>\n",
       "      <td>1.10</td>\n",
       "      <td>Uber</td>\n",
       "      <td>Black SUV</td>\n",
       "      <td>1.0</td>\n",
       "      <td>19</td>\n",
       "      <td>51.97</td>\n",
       "      <td>0.67</td>\n",
       "      <td>999.97</td>\n",
       "      <td>0.52</td>\n",
       "      <td>8.02</td>\n",
       "      <td>0.0000</td>\n",
       "    </tr>\n",
       "    <tr>\n",
       "      <th>4</th>\n",
       "      <td>2</td>\n",
       "      <td>0.90</td>\n",
       "      <td>Lyft</td>\n",
       "      <td>Shared</td>\n",
       "      <td>1.0</td>\n",
       "      <td>12</td>\n",
       "      <td>35.99</td>\n",
       "      <td>0.73</td>\n",
       "      <td>991.30</td>\n",
       "      <td>0.72</td>\n",
       "      <td>7.71</td>\n",
       "      <td>0.0000</td>\n",
       "    </tr>\n",
       "    <tr>\n",
       "      <th>5</th>\n",
       "      <td>1</td>\n",
       "      <td>1.21</td>\n",
       "      <td>Uber</td>\n",
       "      <td>Black</td>\n",
       "      <td>1.0</td>\n",
       "      <td>0</td>\n",
       "      <td>44.84</td>\n",
       "      <td>1.00</td>\n",
       "      <td>1006.28</td>\n",
       "      <td>0.87</td>\n",
       "      <td>10.13</td>\n",
       "      <td>0.0298</td>\n",
       "    </tr>\n",
       "    <tr>\n",
       "      <th>6</th>\n",
       "      <td>2</td>\n",
       "      <td>1.35</td>\n",
       "      <td>Lyft</td>\n",
       "      <td>Lyft</td>\n",
       "      <td>1.0</td>\n",
       "      <td>9</td>\n",
       "      <td>33.50</td>\n",
       "      <td>0.42</td>\n",
       "      <td>991.80</td>\n",
       "      <td>0.84</td>\n",
       "      <td>5.88</td>\n",
       "      <td>0.0000</td>\n",
       "    </tr>\n",
       "    <tr>\n",
       "      <th>7</th>\n",
       "      <td>3</td>\n",
       "      <td>1.46</td>\n",
       "      <td>Uber</td>\n",
       "      <td>Black</td>\n",
       "      <td>1.0</td>\n",
       "      <td>1</td>\n",
       "      <td>38.33</td>\n",
       "      <td>0.65</td>\n",
       "      <td>997.70</td>\n",
       "      <td>0.72</td>\n",
       "      <td>10.67</td>\n",
       "      <td>0.0000</td>\n",
       "    </tr>\n",
       "    <tr>\n",
       "      <th>8</th>\n",
       "      <td>1</td>\n",
       "      <td>4.55</td>\n",
       "      <td>Uber</td>\n",
       "      <td>Black</td>\n",
       "      <td>1.0</td>\n",
       "      <td>0</td>\n",
       "      <td>43.87</td>\n",
       "      <td>0.98</td>\n",
       "      <td>1005.93</td>\n",
       "      <td>0.91</td>\n",
       "      <td>9.85</td>\n",
       "      <td>0.1624</td>\n",
       "    </tr>\n",
       "    <tr>\n",
       "      <th>9</th>\n",
       "      <td>2</td>\n",
       "      <td>2.72</td>\n",
       "      <td>Uber</td>\n",
       "      <td>Black</td>\n",
       "      <td>1.0</td>\n",
       "      <td>12</td>\n",
       "      <td>34.62</td>\n",
       "      <td>0.78</td>\n",
       "      <td>991.18</td>\n",
       "      <td>0.76</td>\n",
       "      <td>6.56</td>\n",
       "      <td>0.0000</td>\n",
       "    </tr>\n",
       "  </tbody>\n",
       "</table>\n",
       "</div>"
      ],
      "text/plain": [
       "   day  distance cab_type          name  surge_multiplier  hour   temp  \\\n",
       "0    3      1.41     Uber         Black               1.0     1  38.54   \n",
       "1    3      0.72     Lyft          Lyft               1.0    15  43.66   \n",
       "2    1      1.09     Lyft  Lux Black XL               1.0     1  44.01   \n",
       "3    0      1.10     Uber     Black SUV               1.0    19  51.97   \n",
       "4    2      0.90     Lyft        Shared               1.0    12  35.99   \n",
       "5    1      1.21     Uber         Black               1.0     0  44.84   \n",
       "6    2      1.35     Lyft          Lyft               1.0     9  33.50   \n",
       "7    3      1.46     Uber         Black               1.0     1  38.33   \n",
       "8    1      4.55     Uber         Black               1.0     0  43.87   \n",
       "9    2      2.72     Uber         Black               1.0    12  34.62   \n",
       "\n",
       "   clouds  pressure  humidity   wind    rain  \n",
       "0    0.55    997.79      0.70  10.20  0.0000  \n",
       "1    0.59   1006.74      0.54  11.36  0.0000  \n",
       "2    0.99   1005.39      0.90  11.24  0.2724  \n",
       "3    0.67    999.97      0.52   8.02  0.0000  \n",
       "4    0.73    991.30      0.72   7.71  0.0000  \n",
       "5    1.00   1006.28      0.87  10.13  0.0298  \n",
       "6    0.42    991.80      0.84   5.88  0.0000  \n",
       "7    0.65    997.70      0.72  10.67  0.0000  \n",
       "8    0.98   1005.93      0.91   9.85  0.1624  \n",
       "9    0.78    991.18      0.76   6.56  0.0000  "
      ]
     },
     "execution_count": 32,
     "metadata": {},
     "output_type": "execute_result"
    }
   ],
   "source": [
    "#previewing the first 10 rows 0f x\n",
    "X.head(10)"
   ]
  },
  {
   "cell_type": "markdown",
   "metadata": {},
   "source": [
    "### Encoding.\n",
    "Encoding using pandas is a process of converting categorical data into numerical data. This is done so that the data can be used in machine learning algorithms. There are a number of different ways to encode categorical data using pandas, but the most common method is to use the `get_dummies()` function.\n",
    "\n",
    "The `get_dummies()` function creates a new DataFrame that contains one column for each unique value in the categorical column. The values in the new columns are either 0 or 1, depending on whether the row in the original DataFrame contains that value.\n",
    "\n",
    "Transforming categorical data to numerical. Used get dummies from pandas to do encoding."
   ]
  },
  {
   "cell_type": "code",
   "execution_count": 33,
   "metadata": {},
   "outputs": [
    {
     "name": "stdout",
     "output_type": "stream",
     "text": [
      "<class 'pandas.core.frame.DataFrame'>\n",
      "RangeIndex: 1000 entries, 0 to 999\n",
      "Data columns (total 24 columns):\n",
      " #   Column             Non-Null Count  Dtype  \n",
      "---  ------             --------------  -----  \n",
      " 0   day                1000 non-null   int64  \n",
      " 1   distance           1000 non-null   float64\n",
      " 2   surge_multiplier   1000 non-null   float64\n",
      " 3   hour               1000 non-null   int64  \n",
      " 4   temp               1000 non-null   float64\n",
      " 5   clouds             1000 non-null   float64\n",
      " 6   pressure           1000 non-null   float64\n",
      " 7   humidity           1000 non-null   float64\n",
      " 8   wind               1000 non-null   float64\n",
      " 9   rain               1000 non-null   float64\n",
      " 10  cab_type_Lyft      1000 non-null   float64\n",
      " 11  cab_type_Uber      1000 non-null   float64\n",
      " 12  name_Black         1000 non-null   float64\n",
      " 13  name_Black SUV     1000 non-null   float64\n",
      " 14  name_Lux           1000 non-null   float64\n",
      " 15  name_Lux Black     1000 non-null   float64\n",
      " 16  name_Lux Black XL  1000 non-null   float64\n",
      " 17  name_Lyft          1000 non-null   float64\n",
      " 18  name_Lyft XL       1000 non-null   float64\n",
      " 19  name_Shared        1000 non-null   float64\n",
      " 20  name_UberPool      1000 non-null   float64\n",
      " 21  name_UberX         1000 non-null   float64\n",
      " 22  name_UberXL        1000 non-null   float64\n",
      " 23  name_WAV           1000 non-null   float64\n",
      "dtypes: float64(22), int64(2)\n",
      "memory usage: 187.6 KB\n"
     ]
    }
   ],
   "source": [
    "#using get dummies from pandas\n",
    "features = pd.get_dummies(X, dtype=float)\n",
    "features.info()"
   ]
  },
  {
   "cell_type": "code",
   "execution_count": 34,
   "metadata": {},
   "outputs": [],
   "source": [
    "# converting to arrays\n",
    "# Labels are the y values we want to predict\n",
    "y = np.array(y)\n",
    "\n",
    "# Saving feature names for later use\n",
    "feature_list = list(features.columns)\n",
    "# Convert to numpy array\n",
    "X = np.array(features)"
   ]
  },
  {
   "cell_type": "markdown",
   "metadata": {},
   "source": [
    "# Modelling\n",
    "Modeling in machine learning is the process of building a mathematical model that can be used to predict the outcome of a given input. Machine learning models are typically built using data that has been labeled, meaning that each data point has been assigned a value that indicates the desired outcome. The model is then trained on this data, and the parameters of the model are adjusted so that the model can make accurate predictions.\n",
    "\n",
    "There are many different types of machine learning models, and the best type of model for a given task will depend on the specific data and the desired outcome. Some of the most common types of machine learning models include linear regression models, logistic regression models, decision trees, and random forests.\n"
   ]
  },
  {
   "cell_type": "code",
   "execution_count": 35,
   "metadata": {},
   "outputs": [],
   "source": [
    "# Using Skicit-learn to import train_test_split\n",
    "from sklearn.model_selection import train_test_split\n",
    "# Split the data into training and testing sets\n",
    "X_train, X_test, y_train, y_test = train_test_split(X, y, test_size = 0.25, random_state = 42)"
   ]
  },
  {
   "cell_type": "markdown",
   "metadata": {},
   "source": [
    "## 1. Linear Regression\n",
    "Linear regression is a statistical method used to predict the value of a continuous variable (the dependent variable) based on the values of one or more independent variables. The independent variables are often referred to as predictors or covariates.\n",
    "\n",
    "Linear regression is a simple and powerful tool that can be used to model a wide variety of relationships. For this project we will use it to predict the cab prices against weather features."
   ]
  },
  {
   "cell_type": "markdown",
   "metadata": {},
   "source": [
    "#### MODELLING AN OLS MODEL\n",
    "\n",
    "Ordinary Least Squares (OLS) is a regression technique that provides a global model of the variable or process you are trying to understand or predict; it creates a table that has different values like the pvalue, the Adjacent R-squared and R squared."
   ]
  },
  {
   "cell_type": "code",
   "execution_count": 36,
   "metadata": {},
   "outputs": [],
   "source": [
    "#importing necessary libraries\n",
    "import statsmodels.api as sm\n"
   ]
  },
  {
   "cell_type": "code",
   "execution_count": 37,
   "metadata": {},
   "outputs": [
    {
     "data": {
      "text/plain": [
       "<statsmodels.regression.linear_model.OLS at 0x1cbd2e8eef0>"
      ]
     },
     "execution_count": 37,
     "metadata": {},
     "output_type": "execute_result"
    }
   ],
   "source": [
    "# Using statsmodels and putting the x and y variables, so that it is well plotted into the model \n",
    "model = sm.OLS(y, sm.add_constant(X))\n",
    "model"
   ]
  },
  {
   "cell_type": "code",
   "execution_count": 38,
   "metadata": {},
   "outputs": [
    {
     "name": "stdout",
     "output_type": "stream",
     "text": [
      "<statsmodels.regression.linear_model.RegressionResultsWrapper object at 0x000001CBDA8B6650>\n",
      "                            OLS Regression Results                            \n",
      "==============================================================================\n",
      "Dep. Variable:                      y   R-squared:                       0.927\n",
      "Model:                            OLS   Adj. R-squared:                  0.926\n",
      "Method:                 Least Squares   F-statistic:                     594.8\n",
      "Date:                Fri, 11 Aug 2023   Prob (F-statistic):               0.00\n",
      "Time:                        15:26:55   Log-Likelihood:                -2312.5\n",
      "No. Observations:                1000   AIC:                             4669.\n",
      "Df Residuals:                     978   BIC:                             4777.\n",
      "Df Model:                          21                                         \n",
      "Covariance Type:            nonrobust                                         \n",
      "==============================================================================\n",
      "                 coef    std err          t      P>|t|      [0.025      0.975]\n",
      "------------------------------------------------------------------------------\n",
      "const         -7.3260      5.933     -1.235      0.217     -18.969       4.317\n",
      "x1             0.0082      0.054      0.152      0.880      -0.098       0.115\n",
      "x2             2.8855      0.071     40.797      0.000       2.747       3.024\n",
      "x3            19.1150      0.902     21.186      0.000      17.344      20.886\n",
      "x4             0.0107      0.012      0.869      0.385      -0.013       0.035\n",
      "x5            -0.0304      0.017     -1.744      0.081      -0.065       0.004\n",
      "x6             0.0012      0.335      0.004      0.997      -0.655       0.658\n",
      "x7             0.0022      0.009      0.247      0.805      -0.015       0.020\n",
      "x8             0.8258      0.956      0.864      0.388      -1.050       2.702\n",
      "x9             0.0897      0.033      2.688      0.007       0.024       0.155\n",
      "x10           -1.8385      2.234     -0.823      0.411      -6.223       2.546\n",
      "x11           -3.1932      2.968     -1.076      0.282      -9.017       2.631\n",
      "x12           -4.1328      2.967     -1.393      0.164      -9.955       1.689\n",
      "x13            4.0929      0.545      7.512      0.000       3.024       5.162\n",
      "x14           13.6793      0.540     25.324      0.000      12.619      14.739\n",
      "x15           -0.0901      0.549     -0.164      0.870      -1.168       0.988\n",
      "x16            4.6416      0.560      8.290      0.000       3.543       5.740\n",
      "x17           13.9476      0.552     25.289      0.000      12.865      15.030\n",
      "x18           -8.1148      0.551    -14.733      0.000      -9.196      -7.034\n",
      "x19           -2.5697      0.568     -4.520      0.000      -3.685      -1.454\n",
      "x20          -11.0079      0.572    -19.251      0.000     -12.130      -9.886\n",
      "x21           -7.8178      0.569    -13.731      0.000      -8.935      -6.700\n",
      "x22           -6.7938      0.548    -12.396      0.000      -7.869      -5.718\n",
      "x23           -0.5769      0.546     -1.057      0.291      -1.648       0.494\n",
      "x24           -6.7164      0.555    -12.095      0.000      -7.806      -5.627\n",
      "==============================================================================\n",
      "Omnibus:                      276.547   Durbin-Watson:                   2.013\n",
      "Prob(Omnibus):                  0.000   Jarque-Bera (JB):             1824.445\n",
      "Skew:                           1.096   Prob(JB):                         0.00\n",
      "Kurtosis:                       9.244   Cond. No.                     1.80e+19\n",
      "==============================================================================\n",
      "\n",
      "Notes:\n",
      "[1] Standard Errors assume that the covariance matrix of the errors is correctly specified.\n",
      "[2] The smallest eigenvalue is 3.14e-30. This might indicate that there are\n",
      "strong multicollinearity problems or that the design matrix is singular.\n"
     ]
    }
   ],
   "source": [
    "# Get model results\n",
    "results= model.fit()\n",
    "\n",
    "# Display results summary by using the .summary() method.\n",
    "print (results)\n",
    "print(results.summary())"
   ]
  },
  {
   "cell_type": "markdown",
   "metadata": {},
   "source": [
    "### Interpretation of the model results\n",
    "\n",
    "Dep. Variable: This indicates the dependent variable in your model, which is \"price\" in this case.\n",
    "\n",
    "R-squared is the coefficient of determination, a measure of how well the independent variables explains the variability the dependent variable. An R-squared value of 0.927 means that approximately 92.7% of the variability in the dependent variable (price) is explained by the independent variables in our model.\n",
    "\n",
    "Adj. R-squared is the adjusted R-squared, which takes into account the number of predictors in the modeland adjusts R-squared accordingly.Its useful for comparing models with different numbers of predictors. A value of 0.927% suggests that model with the given predictors as a good fit.  \n",
    "\n",
    "F-statistic is the value tests whether the overall regression model is a good fit for the data. A higher F-statistic and a low p-value suggests that the model is significant.\n",
    "\n",
    "The coefficients for each independent variable in the model.When we look at x1 has a coefficient of -0.0034, which means that for a one-unit increase in x1, the dependent variable\"price\" is expected to decrease by 0.0034 units, holding other variables constant.\n",
    "\n",
    "The p-value associated with the t-test for each coefficient.A low p-value (< 0.05) suggests that the corresponding independent variable is stattistically significant.\n",
    "\n",
    "Overall, we can say that the model seems to have reasonably high R-squared value, indicating that it explains a substancial amount of the variability in the dependent variable. However, its important to consider the context of the data, the domainknowledge, and potential multi collinearity issues when interpreting the coefficients and drawing conclusions from the model.\n"
   ]
  },
  {
   "cell_type": "code",
   "execution_count": 39,
   "metadata": {},
   "outputs": [
    {
     "name": "stdout",
     "output_type": "stream",
     "text": [
      "Mean Squared Error (MSE): 5.972721099612035\n",
      "Root Mean Squared Error (RMSE): 2.443915117104527\n"
     ]
    }
   ],
   "source": [
    "\n",
    "# Assuming y_actual is the actual target values and y_pred is the predicted values\n",
    "y_actual = merged_df[\"price\"]  # Actual prices from the dataset\n",
    "y_pred = results.predict()\n",
    "\n",
    "# Calculate residuals\n",
    "residuals = y - y_pred\n",
    "\n",
    "# Calculate squared residuals\n",
    "squared_residuals = residuals ** 2\n",
    "\n",
    "# Calculate Mean Squared Error (MSE)\n",
    "mse = np.mean(squared_residuals)\n",
    "\n",
    "# Calculate Root Mean Squared Error (RMSE)\n",
    "rmse = np.sqrt(mse)\n",
    "\n",
    "print(\"Mean Squared Error (MSE):\", mse)\n",
    "print(\"Root Mean Squared Error (RMSE):\", rmse)"
   ]
  },
  {
   "cell_type": "markdown",
   "metadata": {},
   "source": [
    "#### Interpreting the Mean squared error(MSE) and Root Squared Error (RMSE) values \n",
    "\n",
    "Mean squared Error (MSE) is the average of the squared differences between the predicted values and the actual values.A lower MSE indicates that the model's predictions are closer to actual values.In this case, the MSE is approximately 6.32, which means that, on average, the squared difference between the predicted prices and the actual prices is around 6.32.\n",
    "\n",
    "Root Mean Squared Error(RMSE) is the square root of the MSE. The RMSE gives you an idea of the typical magnitude of the errors in the predictions.Like the MSE, a lower RMSE indicates better performance. In this cae, the RMSE is approximately 2.51, meaning that the typical difference between the predicted prices and the predicted prices and the actual prices is around 2.521 units.\n",
    "\n",
    "In summary, both the MSE and RMSE provide insights into how well your regression models predictions align with the actual values. Lower values indicate better predictive performance, as they signify smaller prediction errors.\n"
   ]
  },
  {
   "cell_type": "code",
   "execution_count": 40,
   "metadata": {},
   "outputs": [
    {
     "data": {
      "text/html": [
       "<div>\n",
       "<style scoped>\n",
       "    .dataframe tbody tr th:only-of-type {\n",
       "        vertical-align: middle;\n",
       "    }\n",
       "\n",
       "    .dataframe tbody tr th {\n",
       "        vertical-align: top;\n",
       "    }\n",
       "\n",
       "    .dataframe thead th {\n",
       "        text-align: right;\n",
       "    }\n",
       "</style>\n",
       "<table border=\"1\" class=\"dataframe\">\n",
       "  <thead>\n",
       "    <tr style=\"text-align: right;\">\n",
       "      <th></th>\n",
       "      <th>day</th>\n",
       "      <th>distance</th>\n",
       "      <th>surge_multiplier</th>\n",
       "      <th>hour</th>\n",
       "      <th>temp</th>\n",
       "      <th>clouds</th>\n",
       "      <th>pressure</th>\n",
       "      <th>humidity</th>\n",
       "      <th>wind</th>\n",
       "      <th>rain</th>\n",
       "    </tr>\n",
       "  </thead>\n",
       "  <tbody>\n",
       "    <tr>\n",
       "      <th>day</th>\n",
       "      <td>1.000000</td>\n",
       "      <td>0.018506</td>\n",
       "      <td>0.088815</td>\n",
       "      <td>-0.108965</td>\n",
       "      <td>-0.185433</td>\n",
       "      <td>-0.258816</td>\n",
       "      <td>0.458059</td>\n",
       "      <td>-0.175769</td>\n",
       "      <td>-0.232375</td>\n",
       "      <td>-0.149411</td>\n",
       "    </tr>\n",
       "    <tr>\n",
       "      <th>distance</th>\n",
       "      <td>0.018506</td>\n",
       "      <td>1.000000</td>\n",
       "      <td>0.076171</td>\n",
       "      <td>0.027487</td>\n",
       "      <td>-0.041490</td>\n",
       "      <td>-0.004103</td>\n",
       "      <td>0.042341</td>\n",
       "      <td>-0.022239</td>\n",
       "      <td>0.003450</td>\n",
       "      <td>0.004309</td>\n",
       "    </tr>\n",
       "    <tr>\n",
       "      <th>surge_multiplier</th>\n",
       "      <td>0.088815</td>\n",
       "      <td>0.076171</td>\n",
       "      <td>1.000000</td>\n",
       "      <td>-0.002002</td>\n",
       "      <td>0.014549</td>\n",
       "      <td>0.000092</td>\n",
       "      <td>0.023489</td>\n",
       "      <td>0.001356</td>\n",
       "      <td>-0.040726</td>\n",
       "      <td>-0.020896</td>\n",
       "    </tr>\n",
       "    <tr>\n",
       "      <th>hour</th>\n",
       "      <td>-0.108965</td>\n",
       "      <td>0.027487</td>\n",
       "      <td>-0.002002</td>\n",
       "      <td>1.000000</td>\n",
       "      <td>0.221478</td>\n",
       "      <td>0.100002</td>\n",
       "      <td>-0.106321</td>\n",
       "      <td>-0.277004</td>\n",
       "      <td>-0.002864</td>\n",
       "      <td>-0.213742</td>\n",
       "    </tr>\n",
       "    <tr>\n",
       "      <th>temp</th>\n",
       "      <td>-0.185433</td>\n",
       "      <td>-0.041490</td>\n",
       "      <td>0.014549</td>\n",
       "      <td>0.221478</td>\n",
       "      <td>1.000000</td>\n",
       "      <td>0.462297</td>\n",
       "      <td>-0.212103</td>\n",
       "      <td>0.286541</td>\n",
       "      <td>0.093173</td>\n",
       "      <td>0.181644</td>\n",
       "    </tr>\n",
       "    <tr>\n",
       "      <th>clouds</th>\n",
       "      <td>-0.258816</td>\n",
       "      <td>-0.004103</td>\n",
       "      <td>0.000092</td>\n",
       "      <td>0.100002</td>\n",
       "      <td>0.462297</td>\n",
       "      <td>1.000000</td>\n",
       "      <td>-0.071246</td>\n",
       "      <td>0.390883</td>\n",
       "      <td>0.101435</td>\n",
       "      <td>0.230115</td>\n",
       "    </tr>\n",
       "    <tr>\n",
       "      <th>pressure</th>\n",
       "      <td>0.458059</td>\n",
       "      <td>0.042341</td>\n",
       "      <td>0.023489</td>\n",
       "      <td>-0.106321</td>\n",
       "      <td>-0.212103</td>\n",
       "      <td>-0.071246</td>\n",
       "      <td>1.000000</td>\n",
       "      <td>0.104162</td>\n",
       "      <td>-0.549004</td>\n",
       "      <td>0.020878</td>\n",
       "    </tr>\n",
       "    <tr>\n",
       "      <th>humidity</th>\n",
       "      <td>-0.175769</td>\n",
       "      <td>-0.022239</td>\n",
       "      <td>0.001356</td>\n",
       "      <td>-0.277004</td>\n",
       "      <td>0.286541</td>\n",
       "      <td>0.390883</td>\n",
       "      <td>0.104162</td>\n",
       "      <td>1.000000</td>\n",
       "      <td>-0.334767</td>\n",
       "      <td>0.282755</td>\n",
       "    </tr>\n",
       "    <tr>\n",
       "      <th>wind</th>\n",
       "      <td>-0.232375</td>\n",
       "      <td>0.003450</td>\n",
       "      <td>-0.040726</td>\n",
       "      <td>-0.002864</td>\n",
       "      <td>0.093173</td>\n",
       "      <td>0.101435</td>\n",
       "      <td>-0.549004</td>\n",
       "      <td>-0.334767</td>\n",
       "      <td>1.000000</td>\n",
       "      <td>0.215938</td>\n",
       "    </tr>\n",
       "    <tr>\n",
       "      <th>rain</th>\n",
       "      <td>-0.149411</td>\n",
       "      <td>0.004309</td>\n",
       "      <td>-0.020896</td>\n",
       "      <td>-0.213742</td>\n",
       "      <td>0.181644</td>\n",
       "      <td>0.230115</td>\n",
       "      <td>0.020878</td>\n",
       "      <td>0.282755</td>\n",
       "      <td>0.215938</td>\n",
       "      <td>1.000000</td>\n",
       "    </tr>\n",
       "  </tbody>\n",
       "</table>\n",
       "</div>"
      ],
      "text/plain": [
       "                       day  distance  surge_multiplier      hour      temp  \\\n",
       "day               1.000000  0.018506          0.088815 -0.108965 -0.185433   \n",
       "distance          0.018506  1.000000          0.076171  0.027487 -0.041490   \n",
       "surge_multiplier  0.088815  0.076171          1.000000 -0.002002  0.014549   \n",
       "hour             -0.108965  0.027487         -0.002002  1.000000  0.221478   \n",
       "temp             -0.185433 -0.041490          0.014549  0.221478  1.000000   \n",
       "clouds           -0.258816 -0.004103          0.000092  0.100002  0.462297   \n",
       "pressure          0.458059  0.042341          0.023489 -0.106321 -0.212103   \n",
       "humidity         -0.175769 -0.022239          0.001356 -0.277004  0.286541   \n",
       "wind             -0.232375  0.003450         -0.040726 -0.002864  0.093173   \n",
       "rain             -0.149411  0.004309         -0.020896 -0.213742  0.181644   \n",
       "\n",
       "                    clouds  pressure  humidity      wind      rain  \n",
       "day              -0.258816  0.458059 -0.175769 -0.232375 -0.149411  \n",
       "distance         -0.004103  0.042341 -0.022239  0.003450  0.004309  \n",
       "surge_multiplier  0.000092  0.023489  0.001356 -0.040726 -0.020896  \n",
       "hour              0.100002 -0.106321 -0.277004 -0.002864 -0.213742  \n",
       "temp              0.462297 -0.212103  0.286541  0.093173  0.181644  \n",
       "clouds            1.000000 -0.071246  0.390883  0.101435  0.230115  \n",
       "pressure         -0.071246  1.000000  0.104162 -0.549004  0.020878  \n",
       "humidity          0.390883  0.104162  1.000000 -0.334767  0.282755  \n",
       "wind              0.101435 -0.549004 -0.334767  1.000000  0.215938  \n",
       "rain              0.230115  0.020878  0.282755  0.215938  1.000000  "
      ]
     },
     "execution_count": 40,
     "metadata": {},
     "output_type": "execute_result"
    }
   ],
   "source": [
    "#looking at the correlation between price and the different features\n",
    "\n",
    "correlate =merged_df[['day','distance','surge_multiplier', 'hour','temp','clouds', 'pressure','humidity', 'wind', 'rain']]\n",
    "correlate.corr()"
   ]
  },
  {
   "cell_type": "markdown",
   "metadata": {},
   "source": [
    "## interpretation of the correlations :\n",
    "\n",
    "- Day: The 'day' variable has very weak correlations with the other variables. None of the correlations are strong.\n",
    "\n",
    "- Distance: There is a very weak positive correlation between distance and 'surge_multiplier'. The correlation with other variables \n",
    "    is extremely weak.\n",
    "\n",
    "- Surge_multiplier: The 'surge_multiplier' has a weak positive correlation with 'distance', and extremely weak correlations with other variables.\n",
    "\n",
    "- Hour: There is a very weak negative correlation between 'hour' and 'day'. The correlation with other variables is also weak.\n",
    "\n",
    "- Temp: 'temp' has a moderate positive correlation with 'pressure' and humidity. It has a moderate negative correlation with clouds.\n",
    "\n",
    "- Clouds: 'clouds' has moderate positive correlations with pressure, 'humidity', and 'wind'. It also has a moderate negative correlation with 'temp'.\n",
    "\n",
    "- Pressure: 'pressure' has a strong positive correlation with humidity. It has moderate positive correlations with clouds and rain. \n",
    "  It has a moderate negative correlation with temp.\n",
    "\n",
    "- humidity: 'humidity' has a strong positive correlation with pressure. It has moderate positive correlations with 'clouds', 'wind', and 'rain'.\n",
    "  It has a moderate negative correlation with 'temp'.\n",
    "\n",
    "- Wind: 'wind' has moderate positive correlations with 'clouds' and 'humidity'. It has a moderate negative correlation with pressure.\n",
    "\n",
    "- Rain: 'rain' has moderate positive correlations with 'humidity' and 'pressure'.\n",
    "\n",
    "This correlation matrix shows how these variables tend to move in relation to each other, but it does not indicate a cause-and-effect relationship\n",
    "between them."
   ]
  },
  {
   "cell_type": "markdown",
   "metadata": {},
   "source": [
    "## 2. MultiLinear Regression\n",
    "\n",
    "Multiple linear regression is used to estimate the relationship between two or more independent variables and one dependent variable. It is a generalization of linear regression, which is a statistical method used to predict the value of a single continuous variable based on the value of a single independent variable. In linear regression, the relationship between the dependent and independent variables is assumed to be linear. In multilinear regression, the relationship between the dependent and independent variables is assumed to be linear in the parameters, but not necessarily linear in the variables themselves. We will use multiple linear regression to predict cab price using more than one feature. \n",
    " We fit a linear regression model using these features as predictors and evaluate its performance and interpretation."
   ]
  },
  {
   "cell_type": "code",
   "execution_count": 41,
   "metadata": {},
   "outputs": [],
   "source": [
    "# importing \n",
    "from sklearn.linear_model import LinearRegression\n"
   ]
  },
  {
   "cell_type": "code",
   "execution_count": 42,
   "metadata": {},
   "outputs": [],
   "source": [
    "# Creating the linear regression model\n",
    "model = LinearRegression()"
   ]
  },
  {
   "cell_type": "code",
   "execution_count": 43,
   "metadata": {},
   "outputs": [
    {
     "data": {
      "text/html": [
       "<style>#sk-container-id-1 {color: black;}#sk-container-id-1 pre{padding: 0;}#sk-container-id-1 div.sk-toggleable {background-color: white;}#sk-container-id-1 label.sk-toggleable__label {cursor: pointer;display: block;width: 100%;margin-bottom: 0;padding: 0.3em;box-sizing: border-box;text-align: center;}#sk-container-id-1 label.sk-toggleable__label-arrow:before {content: \"▸\";float: left;margin-right: 0.25em;color: #696969;}#sk-container-id-1 label.sk-toggleable__label-arrow:hover:before {color: black;}#sk-container-id-1 div.sk-estimator:hover label.sk-toggleable__label-arrow:before {color: black;}#sk-container-id-1 div.sk-toggleable__content {max-height: 0;max-width: 0;overflow: hidden;text-align: left;background-color: #f0f8ff;}#sk-container-id-1 div.sk-toggleable__content pre {margin: 0.2em;color: black;border-radius: 0.25em;background-color: #f0f8ff;}#sk-container-id-1 input.sk-toggleable__control:checked~div.sk-toggleable__content {max-height: 200px;max-width: 100%;overflow: auto;}#sk-container-id-1 input.sk-toggleable__control:checked~label.sk-toggleable__label-arrow:before {content: \"▾\";}#sk-container-id-1 div.sk-estimator input.sk-toggleable__control:checked~label.sk-toggleable__label {background-color: #d4ebff;}#sk-container-id-1 div.sk-label input.sk-toggleable__control:checked~label.sk-toggleable__label {background-color: #d4ebff;}#sk-container-id-1 input.sk-hidden--visually {border: 0;clip: rect(1px 1px 1px 1px);clip: rect(1px, 1px, 1px, 1px);height: 1px;margin: -1px;overflow: hidden;padding: 0;position: absolute;width: 1px;}#sk-container-id-1 div.sk-estimator {font-family: monospace;background-color: #f0f8ff;border: 1px dotted black;border-radius: 0.25em;box-sizing: border-box;margin-bottom: 0.5em;}#sk-container-id-1 div.sk-estimator:hover {background-color: #d4ebff;}#sk-container-id-1 div.sk-parallel-item::after {content: \"\";width: 100%;border-bottom: 1px solid gray;flex-grow: 1;}#sk-container-id-1 div.sk-label:hover label.sk-toggleable__label {background-color: #d4ebff;}#sk-container-id-1 div.sk-serial::before {content: \"\";position: absolute;border-left: 1px solid gray;box-sizing: border-box;top: 0;bottom: 0;left: 50%;z-index: 0;}#sk-container-id-1 div.sk-serial {display: flex;flex-direction: column;align-items: center;background-color: white;padding-right: 0.2em;padding-left: 0.2em;position: relative;}#sk-container-id-1 div.sk-item {position: relative;z-index: 1;}#sk-container-id-1 div.sk-parallel {display: flex;align-items: stretch;justify-content: center;background-color: white;position: relative;}#sk-container-id-1 div.sk-item::before, #sk-container-id-1 div.sk-parallel-item::before {content: \"\";position: absolute;border-left: 1px solid gray;box-sizing: border-box;top: 0;bottom: 0;left: 50%;z-index: -1;}#sk-container-id-1 div.sk-parallel-item {display: flex;flex-direction: column;z-index: 1;position: relative;background-color: white;}#sk-container-id-1 div.sk-parallel-item:first-child::after {align-self: flex-end;width: 50%;}#sk-container-id-1 div.sk-parallel-item:last-child::after {align-self: flex-start;width: 50%;}#sk-container-id-1 div.sk-parallel-item:only-child::after {width: 0;}#sk-container-id-1 div.sk-dashed-wrapped {border: 1px dashed gray;margin: 0 0.4em 0.5em 0.4em;box-sizing: border-box;padding-bottom: 0.4em;background-color: white;}#sk-container-id-1 div.sk-label label {font-family: monospace;font-weight: bold;display: inline-block;line-height: 1.2em;}#sk-container-id-1 div.sk-label-container {text-align: center;}#sk-container-id-1 div.sk-container {/* jupyter's `normalize.less` sets `[hidden] { display: none; }` but bootstrap.min.css set `[hidden] { display: none !important; }` so we also need the `!important` here to be able to override the default hidden behavior on the sphinx rendered scikit-learn.org. See: https://github.com/scikit-learn/scikit-learn/issues/21755 */display: inline-block !important;position: relative;}#sk-container-id-1 div.sk-text-repr-fallback {display: none;}</style><div id=\"sk-container-id-1\" class=\"sk-top-container\"><div class=\"sk-text-repr-fallback\"><pre>LinearRegression()</pre><b>In a Jupyter environment, please rerun this cell to show the HTML representation or trust the notebook. <br />On GitHub, the HTML representation is unable to render, please try loading this page with nbviewer.org.</b></div><div class=\"sk-container\" hidden><div class=\"sk-item\"><div class=\"sk-estimator sk-toggleable\"><input class=\"sk-toggleable__control sk-hidden--visually\" id=\"sk-estimator-id-1\" type=\"checkbox\" checked><label for=\"sk-estimator-id-1\" class=\"sk-toggleable__label sk-toggleable__label-arrow\">LinearRegression</label><div class=\"sk-toggleable__content\"><pre>LinearRegression()</pre></div></div></div></div></div>"
      ],
      "text/plain": [
       "LinearRegression()"
      ]
     },
     "execution_count": 43,
     "metadata": {},
     "output_type": "execute_result"
    }
   ],
   "source": [
    "# Fitting the model on the training data\n",
    "model.fit(X_train, y_train)"
   ]
  },
  {
   "cell_type": "code",
   "execution_count": 44,
   "metadata": {},
   "outputs": [],
   "source": [
    "y_pred = model.predict(X_test)"
   ]
  },
  {
   "cell_type": "code",
   "execution_count": 45,
   "metadata": {},
   "outputs": [],
   "source": [
    "# Calculating the Mean Squared Error and rmse\n",
    "mse = mean_squared_error(y_test, y_pred)\n",
    "rmse = np.sqrt(mse)"
   ]
  },
  {
   "cell_type": "code",
   "execution_count": 46,
   "metadata": {},
   "outputs": [
    {
     "name": "stdout",
     "output_type": "stream",
     "text": [
      "Coefficients: [ 2.16523384e-02  2.90136927e+00  1.99212593e+01  1.26220182e-02\n",
      " -2.66329842e-02 -2.15524385e-01  2.24297610e-03  1.22818066e+00\n",
      "  1.01862033e-01 -1.32871380e+00  4.77633126e-01 -4.77633126e-01\n",
      "  4.66356125e+00  1.43394663e+01  3.37233938e-01  5.46234620e+00\n",
      "  1.45968644e+01 -7.68021147e+00 -1.98235738e+00 -1.02562426e+01\n",
      " -7.35257942e+00 -6.22920192e+00  2.29303695e-01 -6.12818300e+00]\n",
      "Intercept: -12.85558053270255\n",
      "Mean Squared Error: 5.4435834162822845\n",
      "R-sq score: 0.9192496433705576\n",
      "root mean squared error: 2.3331488200031916\n"
     ]
    }
   ],
   "source": [
    "print(\"Coefficients:\", model.coef_)\n",
    "print(\"Intercept:\", model.intercept_)\n",
    "print(\"Mean Squared Error:\", mse)\n",
    "print('R-sq score:', r2_score(y_test, y_pred))\n",
    "print('root mean squared error:', rmse)"
   ]
  },
  {
   "cell_type": "markdown",
   "metadata": {},
   "source": [
    "The following were the findings after modeling;\n",
    "The intercept is the value of the dependent variable when all of the independent variables are 0. In this case, the intercept is -8.91.\n",
    "\n",
    "The mean squared error is a measure of how well the model fits the data. In this case, the mean squared error is 6.28.\n",
    "\n",
    "The R-squared score is a measure of how much of the variation in the dependent variable is explained by the independent variables. In this case, the R-squared score is 0.92, which means that 92%"
   ]
  },
  {
   "cell_type": "code",
   "execution_count": 47,
   "metadata": {},
   "outputs": [
    {
     "name": "stdout",
     "output_type": "stream",
     "text": [
      "Cross-Validation Mean Squared Error: 6.394076841843242\n"
     ]
    }
   ],
   "source": [
    "# Perform cross-validation with 5 folds\n",
    "scores = cross_val_score(model, X, y, cv=5, scoring='neg_mean_squared_error')\n",
    "\n",
    "# Convert negative MSE scores to positive and calculate the mean\n",
    "average_mse = -np.mean(scores)\n",
    "\n",
    "print(\"Cross-Validation Mean Squared Error:\", average_mse)"
   ]
  },
  {
   "cell_type": "markdown",
   "metadata": {},
   "source": [
    "The cross-validation mean squared error (MSE) is a measure of how well a model fits the data. It is calculated by taking the average of the MSEs from each of the k folds in a k-fold cross-validation. In your case, the k-fold cross-validation was performed with k = 10, so the cross-validation MSE is the average of the MSEs from the 10 folds.\n",
    "\n",
    "The cross-validation MSE of 5.6 indicates that the model is not very well-fit to the data. This could be due to a number of factors, such as:\n",
    "\n",
    "* The model is too complex and is overfitting the data.\n",
    "* The model is not complex enough and is underfitting the data.\n",
    "* The data is not well-suited for the type of model that is being used.\n"
   ]
  },
  {
   "cell_type": "markdown",
   "metadata": {},
   "source": [
    "## 3. Ridge Regression\n",
    "Ridge regression is a type of linear regression that is used to reduce the variance of the model predictions. This is done by adding a penalty term to the objective function, which penalizes the model for having large coefficients. This penalty term has the effect of shrinking the coefficients towards zero, which reduces the variance of the model predictions."
   ]
  },
  {
   "cell_type": "code",
   "execution_count": 48,
   "metadata": {},
   "outputs": [],
   "source": [
    "from sklearn.linear_model import Ridge"
   ]
  },
  {
   "cell_type": "code",
   "execution_count": 49,
   "metadata": {},
   "outputs": [
    {
     "data": {
      "text/html": [
       "<style>#sk-container-id-2 {color: black;}#sk-container-id-2 pre{padding: 0;}#sk-container-id-2 div.sk-toggleable {background-color: white;}#sk-container-id-2 label.sk-toggleable__label {cursor: pointer;display: block;width: 100%;margin-bottom: 0;padding: 0.3em;box-sizing: border-box;text-align: center;}#sk-container-id-2 label.sk-toggleable__label-arrow:before {content: \"▸\";float: left;margin-right: 0.25em;color: #696969;}#sk-container-id-2 label.sk-toggleable__label-arrow:hover:before {color: black;}#sk-container-id-2 div.sk-estimator:hover label.sk-toggleable__label-arrow:before {color: black;}#sk-container-id-2 div.sk-toggleable__content {max-height: 0;max-width: 0;overflow: hidden;text-align: left;background-color: #f0f8ff;}#sk-container-id-2 div.sk-toggleable__content pre {margin: 0.2em;color: black;border-radius: 0.25em;background-color: #f0f8ff;}#sk-container-id-2 input.sk-toggleable__control:checked~div.sk-toggleable__content {max-height: 200px;max-width: 100%;overflow: auto;}#sk-container-id-2 input.sk-toggleable__control:checked~label.sk-toggleable__label-arrow:before {content: \"▾\";}#sk-container-id-2 div.sk-estimator input.sk-toggleable__control:checked~label.sk-toggleable__label {background-color: #d4ebff;}#sk-container-id-2 div.sk-label input.sk-toggleable__control:checked~label.sk-toggleable__label {background-color: #d4ebff;}#sk-container-id-2 input.sk-hidden--visually {border: 0;clip: rect(1px 1px 1px 1px);clip: rect(1px, 1px, 1px, 1px);height: 1px;margin: -1px;overflow: hidden;padding: 0;position: absolute;width: 1px;}#sk-container-id-2 div.sk-estimator {font-family: monospace;background-color: #f0f8ff;border: 1px dotted black;border-radius: 0.25em;box-sizing: border-box;margin-bottom: 0.5em;}#sk-container-id-2 div.sk-estimator:hover {background-color: #d4ebff;}#sk-container-id-2 div.sk-parallel-item::after {content: \"\";width: 100%;border-bottom: 1px solid gray;flex-grow: 1;}#sk-container-id-2 div.sk-label:hover label.sk-toggleable__label {background-color: #d4ebff;}#sk-container-id-2 div.sk-serial::before {content: \"\";position: absolute;border-left: 1px solid gray;box-sizing: border-box;top: 0;bottom: 0;left: 50%;z-index: 0;}#sk-container-id-2 div.sk-serial {display: flex;flex-direction: column;align-items: center;background-color: white;padding-right: 0.2em;padding-left: 0.2em;position: relative;}#sk-container-id-2 div.sk-item {position: relative;z-index: 1;}#sk-container-id-2 div.sk-parallel {display: flex;align-items: stretch;justify-content: center;background-color: white;position: relative;}#sk-container-id-2 div.sk-item::before, #sk-container-id-2 div.sk-parallel-item::before {content: \"\";position: absolute;border-left: 1px solid gray;box-sizing: border-box;top: 0;bottom: 0;left: 50%;z-index: -1;}#sk-container-id-2 div.sk-parallel-item {display: flex;flex-direction: column;z-index: 1;position: relative;background-color: white;}#sk-container-id-2 div.sk-parallel-item:first-child::after {align-self: flex-end;width: 50%;}#sk-container-id-2 div.sk-parallel-item:last-child::after {align-self: flex-start;width: 50%;}#sk-container-id-2 div.sk-parallel-item:only-child::after {width: 0;}#sk-container-id-2 div.sk-dashed-wrapped {border: 1px dashed gray;margin: 0 0.4em 0.5em 0.4em;box-sizing: border-box;padding-bottom: 0.4em;background-color: white;}#sk-container-id-2 div.sk-label label {font-family: monospace;font-weight: bold;display: inline-block;line-height: 1.2em;}#sk-container-id-2 div.sk-label-container {text-align: center;}#sk-container-id-2 div.sk-container {/* jupyter's `normalize.less` sets `[hidden] { display: none; }` but bootstrap.min.css set `[hidden] { display: none !important; }` so we also need the `!important` here to be able to override the default hidden behavior on the sphinx rendered scikit-learn.org. See: https://github.com/scikit-learn/scikit-learn/issues/21755 */display: inline-block !important;position: relative;}#sk-container-id-2 div.sk-text-repr-fallback {display: none;}</style><div id=\"sk-container-id-2\" class=\"sk-top-container\"><div class=\"sk-text-repr-fallback\"><pre>Ridge()</pre><b>In a Jupyter environment, please rerun this cell to show the HTML representation or trust the notebook. <br />On GitHub, the HTML representation is unable to render, please try loading this page with nbviewer.org.</b></div><div class=\"sk-container\" hidden><div class=\"sk-item\"><div class=\"sk-estimator sk-toggleable\"><input class=\"sk-toggleable__control sk-hidden--visually\" id=\"sk-estimator-id-2\" type=\"checkbox\" checked><label for=\"sk-estimator-id-2\" class=\"sk-toggleable__label sk-toggleable__label-arrow\">Ridge</label><div class=\"sk-toggleable__content\"><pre>Ridge()</pre></div></div></div></div></div>"
      ],
      "text/plain": [
       "Ridge()"
      ]
     },
     "execution_count": 49,
     "metadata": {},
     "output_type": "execute_result"
    }
   ],
   "source": [
    "# Regularization strength\n",
    "alpha = 1.0 \n",
    "\n",
    "# instantiate the rigde regression model\n",
    "model = Ridge(alpha=alpha)\n",
    "\n",
    "# Train and fit the ridge regression model\n",
    "model.fit(X_train, y_train)"
   ]
  },
  {
   "cell_type": "code",
   "execution_count": 50,
   "metadata": {},
   "outputs": [
    {
     "name": "stdout",
     "output_type": "stream",
     "text": [
      "Mean Squared Error: 5.35\n",
      "R-squared: 0.92\n",
      "Mean Absolute Error: 1.70\n"
     ]
    }
   ],
   "source": [
    "# Make predictions on the  test data\n",
    "y_pred = model.predict(X_test)\n",
    "\n",
    "# Calculate Mean Squared Error\n",
    "mse = mean_squared_error(y_test, y_pred)\n",
    "\n",
    "# Calculated R-squared \n",
    "r2 = r2_score(y_test, y_pred)\n",
    "\n",
    "# Calculate the Mean Absolute Error \n",
    "mae = mean_absolute_error(y_test, y_pred)\n",
    "\n",
    "# printing the results \n",
    "print(f\"Mean Squared Error: {mse:.2f}\")\n",
    "print(f\"R-squared: {r2:.2f}\")\n",
    "print(f\"Mean Absolute Error: {mae:.2f}\")"
   ]
  },
  {
   "cell_type": "markdown",
   "metadata": {},
   "source": [
    "According to my metrics above:\n",
    "\n",
    "* #### The Mean Squared Error (MSE)\n",
    "Provides a measure of the model's accuracy, with lower values indicating better perfomance. In my ridge gregression model the calculated MSE of 6.29, suggests that on average the squared difference between the predicted prices and the actual prices in my dataset would be approximately 6.29.\n",
    "\n",
    "* #### R-squared(R2)\n",
    "The R-squared (also known as coefficient of determination) is a statistic that represents the propotion of the variance in the dependent variable (actual prices) that is explained by the independent variables(feature).\n",
    "\n",
    "It ranges between 0 and 1, where a higher value indicates that the model explains more of the variance. In my ridge model the calculated r-squared of 0.93, suggests that approximately 93% of the variance in the actual price is exlpained by the feature inculded in the model.\n",
    "    \n",
    "\n",
    "* #### Mean Absolute Error(MAE)\n",
    "The MAE measures the average absolute difference beetween the predicted values and the actual values in my test dataset. It provides prediction accuracy, but gives equal weight to all errors \n",
    "irrespactive of the magnitude. In my model the calculated MAE is 1.78. This suggests that, on average, the absolute difference between the predicted prices and the actual price in the test data is approximately 1.78. "
   ]
  },
  {
   "cell_type": "markdown",
   "metadata": {},
   "source": [
    "### 3.1 Scaling the Data \n",
    "Scaling my features helps improve the convergence and perfomance of Ridge Regression. "
   ]
  },
  {
   "cell_type": "code",
   "execution_count": 51,
   "metadata": {},
   "outputs": [],
   "source": [
    "# instantiating the Standard Scaler \n",
    "s_scaler = StandardScaler()\n",
    "\n",
    "# Fit and transform the data \n",
    "scl_train = s_scaler.fit_transform(X_train)\n",
    "scl_test = s_scaler.transform(X_test)"
   ]
  },
  {
   "cell_type": "code",
   "execution_count": 52,
   "metadata": {},
   "outputs": [
    {
     "data": {
      "text/html": [
       "<style>#sk-container-id-3 {color: black;}#sk-container-id-3 pre{padding: 0;}#sk-container-id-3 div.sk-toggleable {background-color: white;}#sk-container-id-3 label.sk-toggleable__label {cursor: pointer;display: block;width: 100%;margin-bottom: 0;padding: 0.3em;box-sizing: border-box;text-align: center;}#sk-container-id-3 label.sk-toggleable__label-arrow:before {content: \"▸\";float: left;margin-right: 0.25em;color: #696969;}#sk-container-id-3 label.sk-toggleable__label-arrow:hover:before {color: black;}#sk-container-id-3 div.sk-estimator:hover label.sk-toggleable__label-arrow:before {color: black;}#sk-container-id-3 div.sk-toggleable__content {max-height: 0;max-width: 0;overflow: hidden;text-align: left;background-color: #f0f8ff;}#sk-container-id-3 div.sk-toggleable__content pre {margin: 0.2em;color: black;border-radius: 0.25em;background-color: #f0f8ff;}#sk-container-id-3 input.sk-toggleable__control:checked~div.sk-toggleable__content {max-height: 200px;max-width: 100%;overflow: auto;}#sk-container-id-3 input.sk-toggleable__control:checked~label.sk-toggleable__label-arrow:before {content: \"▾\";}#sk-container-id-3 div.sk-estimator input.sk-toggleable__control:checked~label.sk-toggleable__label {background-color: #d4ebff;}#sk-container-id-3 div.sk-label input.sk-toggleable__control:checked~label.sk-toggleable__label {background-color: #d4ebff;}#sk-container-id-3 input.sk-hidden--visually {border: 0;clip: rect(1px 1px 1px 1px);clip: rect(1px, 1px, 1px, 1px);height: 1px;margin: -1px;overflow: hidden;padding: 0;position: absolute;width: 1px;}#sk-container-id-3 div.sk-estimator {font-family: monospace;background-color: #f0f8ff;border: 1px dotted black;border-radius: 0.25em;box-sizing: border-box;margin-bottom: 0.5em;}#sk-container-id-3 div.sk-estimator:hover {background-color: #d4ebff;}#sk-container-id-3 div.sk-parallel-item::after {content: \"\";width: 100%;border-bottom: 1px solid gray;flex-grow: 1;}#sk-container-id-3 div.sk-label:hover label.sk-toggleable__label {background-color: #d4ebff;}#sk-container-id-3 div.sk-serial::before {content: \"\";position: absolute;border-left: 1px solid gray;box-sizing: border-box;top: 0;bottom: 0;left: 50%;z-index: 0;}#sk-container-id-3 div.sk-serial {display: flex;flex-direction: column;align-items: center;background-color: white;padding-right: 0.2em;padding-left: 0.2em;position: relative;}#sk-container-id-3 div.sk-item {position: relative;z-index: 1;}#sk-container-id-3 div.sk-parallel {display: flex;align-items: stretch;justify-content: center;background-color: white;position: relative;}#sk-container-id-3 div.sk-item::before, #sk-container-id-3 div.sk-parallel-item::before {content: \"\";position: absolute;border-left: 1px solid gray;box-sizing: border-box;top: 0;bottom: 0;left: 50%;z-index: -1;}#sk-container-id-3 div.sk-parallel-item {display: flex;flex-direction: column;z-index: 1;position: relative;background-color: white;}#sk-container-id-3 div.sk-parallel-item:first-child::after {align-self: flex-end;width: 50%;}#sk-container-id-3 div.sk-parallel-item:last-child::after {align-self: flex-start;width: 50%;}#sk-container-id-3 div.sk-parallel-item:only-child::after {width: 0;}#sk-container-id-3 div.sk-dashed-wrapped {border: 1px dashed gray;margin: 0 0.4em 0.5em 0.4em;box-sizing: border-box;padding-bottom: 0.4em;background-color: white;}#sk-container-id-3 div.sk-label label {font-family: monospace;font-weight: bold;display: inline-block;line-height: 1.2em;}#sk-container-id-3 div.sk-label-container {text-align: center;}#sk-container-id-3 div.sk-container {/* jupyter's `normalize.less` sets `[hidden] { display: none; }` but bootstrap.min.css set `[hidden] { display: none !important; }` so we also need the `!important` here to be able to override the default hidden behavior on the sphinx rendered scikit-learn.org. See: https://github.com/scikit-learn/scikit-learn/issues/21755 */display: inline-block !important;position: relative;}#sk-container-id-3 div.sk-text-repr-fallback {display: none;}</style><div id=\"sk-container-id-3\" class=\"sk-top-container\"><div class=\"sk-text-repr-fallback\"><pre>Ridge()</pre><b>In a Jupyter environment, please rerun this cell to show the HTML representation or trust the notebook. <br />On GitHub, the HTML representation is unable to render, please try loading this page with nbviewer.org.</b></div><div class=\"sk-container\" hidden><div class=\"sk-item\"><div class=\"sk-estimator sk-toggleable\"><input class=\"sk-toggleable__control sk-hidden--visually\" id=\"sk-estimator-id-3\" type=\"checkbox\" checked><label for=\"sk-estimator-id-3\" class=\"sk-toggleable__label sk-toggleable__label-arrow\">Ridge</label><div class=\"sk-toggleable__content\"><pre>Ridge()</pre></div></div></div></div></div>"
      ],
      "text/plain": [
       "Ridge()"
      ]
     },
     "execution_count": 52,
     "metadata": {},
     "output_type": "execute_result"
    }
   ],
   "source": [
    "# create another instance of ridge rigerssion 'moel2'\n",
    "alpha = 1.0 \n",
    "model2 = Ridge(alpha=alpha)\n",
    "\n",
    "# fit the data \n",
    "model2.fit(scl_train, y_train)"
   ]
  },
  {
   "cell_type": "code",
   "execution_count": 53,
   "metadata": {},
   "outputs": [
    {
     "name": "stdout",
     "output_type": "stream",
     "text": [
      "Mean Squared Error: 5.44\n",
      "R-squared: 0.92\n",
      "Mean Absolute Error: 1.73\n"
     ]
    }
   ],
   "source": [
    "# Make predictions on the  test data\n",
    "y_pred2 = model2.predict(scl_test)\n",
    "\n",
    "# Calculate Mean Squared Error\n",
    "mse = mean_squared_error(y_test, y_pred2)\n",
    "\n",
    "# Calculated R-squared \n",
    "r2 = r2_score(y_test, y_pred2)\n",
    "\n",
    "# Calculate the Mean Absolute Error \n",
    "mae = mean_absolute_error(y_test, y_pred2)\n",
    "\n",
    "# printing the results \n",
    "print(f\"Mean Squared Error: {mse:.2f}\")\n",
    "print(f\"R-squared: {r2:.2f}\")\n",
    "print(f\"Mean Absolute Error: {mae:.2f}\")"
   ]
  },
  {
   "cell_type": "markdown",
   "metadata": {},
   "source": [
    "### 3.2 GridSearchCV"
   ]
  },
  {
   "cell_type": "code",
   "execution_count": 54,
   "metadata": {},
   "outputs": [
    {
     "name": "stdout",
     "output_type": "stream",
     "text": [
      "Best parameters:{'alpha': 6.812920690579622}\n",
      "Mean Squared Error: 5.41\n",
      "R-squared: 0.92\n",
      "Mean Absolute Error: 1.72\n"
     ]
    }
   ],
   "source": [
    "\n",
    "# Create  arange of alpha values to test \n",
    "# Generates a range from 10^-6 to 10^6 \n",
    "alphas = np.logspace(-5, 5, 13)\n",
    "\n",
    "# Create a dictionary of parameters to tune\n",
    "ridge = Ridge()\n",
    "\n",
    "# Create a dictionary of parameters to tune \n",
    "param_grid = {'alpha': alphas}\n",
    "\n",
    "# Intitialize GridSearchCV\n",
    "grid_search = GridSearchCV(ridge, param_grid, cv=2, scoring='neg_mean_squared_error')\n",
    "\n",
    "# Fit the grid search to the scaled training data\n",
    "grid_search.fit(scl_train, y_train)\n",
    "\n",
    "# Get the best alpha value\n",
    "best_alpha = grid_search.best_params_['alpha']\n",
    "\n",
    "# Train a Ridge Regression model with the best alpha value\n",
    "best_model = Ridge(alpha=best_alpha)\n",
    "best_model.fit(scl_train, y_train)\n",
    "\n",
    "# Make predictions and evaluate the best model\n",
    "y_pred_best = best_model.predict(scl_test)\n",
    "mse_best = mean_squared_error(y_test, y_pred_best)\n",
    "r2_best = r2_score(y_test, y_pred_best)\n",
    "mae_best = mean_absolute_error(y_test, y_pred_best)\n",
    "\n",
    "# Print results\n",
    "print(f'Best parameters:{grid_search.best_params_}')\n",
    "print(f\"Mean Squared Error: {mse_best:.2f}\")\n",
    "print(f\"R-squared: {r2_best:.2f}\")\n",
    "print(f\"Mean Absolute Error: {mae_best:.2f}\")"
   ]
  },
  {
   "cell_type": "markdown",
   "metadata": {},
   "source": [
    "Interpreting the Metrics:\n",
    "\n",
    "* Best Alpha:\n",
    "    This is the same as the best alpha value from the 'best parameters'. It's the hyperparameter value that resulted in the best performance for the Ridge model.\n",
    "\n",
    "* Best Model:\n",
    "    This section provides information about the performance of the best Ridge model.\n",
    " \n",
    "\n",
    "* Mean Squared Error (MSE):\n",
    "    The MSE measures the average squared difference between the predicted values and the actual values. Lower values of MSE indicate better model performance. In this case, an MSE of 6.29 means that, on average, the squared difference between predicted and actual values is 6.29. Lower values are better.\n",
    "\n",
    " * R-squared (R2):\n",
    "    The R-squared value is a measure of how well the variance in the dependent variable (price in this case) is explained by the independent variables (features). R-squared ranges from 0 to 1, where 1 indicates that the model explains all the variance and 0 indicates that it explains none. An R-squared of 0.93 means that the model explains about 93% of the variance in the target variable\n",
    "\n",
    "* Mean Absolute Error (MAE):\n",
    "    The MAE measures the average absolute difference between the predicted values and the actual values. Like the MSE, lower values of MAE indicate better model performance. An MAE of 1.78 means that, on average, the absolute difference between predicted and actual values is 1.78.\n",
    "\n",
    "\n",
    "In summary, the Ridge model with the best alpha value of 0.00001 achieved a good level of performance on the test data. It provides relatively low Mean Squared Error, high R-squared (indicating good explanatory power), and low Mean Absolute Error, which collectively suggest that the model is making accurate predictions and generalizing well to unseen data. This outcome implies that the chosen Ridge model with the best hyperparameter configuration is a suitable choice for predicting cab prices based on the provided features.\n"
   ]
  },
  {
   "cell_type": "code",
   "execution_count": 55,
   "metadata": {},
   "outputs": [
    {
     "data": {
      "image/png": "[encoded data removed]",
      "text/plain": [
       "<Figure size 1200x800 with 1 Axes>"
      ]
     },
     "metadata": {},
     "output_type": "display_data"
    }
   ],
   "source": [
    "# Finding the most important features for Ridge model\n",
    "# Get the coefficients from the best Ridge model\n",
    "coefficients = best_model.coef_\n",
    "\n",
    "# Create a DataFrame to associate coefficients with feature names\n",
    "coef_df = pd.DataFrame({'Feature': features.columns, 'Coefficient': coefficients})\n",
    "\n",
    "# Sort the coefficients by their absolute values in descending order\n",
    "coef_df['Absolute Coefficient'] = coef_df['Coefficient'].abs()\n",
    "coef_df = coef_df.sort_values(by='Absolute Coefficient', ascending=False)\n",
    "\n",
    "# Plot the top N important features\n",
    "# Number of top features to visualize\n",
    "N = 10  \n",
    "plt.figure(figsize=(12, 8))\n",
    "sns.barplot(x='Absolute Coefficient', y='Feature', data=coef_df.head(N))\n",
    "plt.title(f'Top {N} Important Features')\n",
    "plt.xlabel('Absolute Coefficient')\n",
    "plt.ylabel('Feature')\n",
    "plt.show()"
   ]
  },
  {
   "cell_type": "markdown",
   "metadata": {},
   "source": [
    "Explaining the feature importance:\n",
    "\n",
    "* #### Feature Importance Ranking: \n",
    "The y-axis of the plot represents the features, while the x-axis represents the absolute coefficient values. \n",
    "Features are listed vertically, with the most important (highest absolute coefficient) at the top and the least important at the bottom.\n",
    "\n",
    "* #### Number of Features: \n",
    "In your code, N is set to 10, so the plot will show the top 10 important features. \n",
    "You can adjust this value to visualize more or fewer features."
   ]
  },
  {
   "cell_type": "markdown",
   "metadata": {},
   "source": [
    "## 4. Decision Tree Regressor.\n",
    "A decision tree regressor is a type of machine learning algorithm that can be used to predict a continuous value, such as the price of a house or the number of sales in a given month. Decision tree regressors work by building a tree-like structure of decisions, where each decision is based on a single feature of the data. The tree is built in a way that minimizes the error between the predicted values and the actual values.\n",
    "\n",
    "Decision tree regressors are relatively easy to understand and interpret, and they can be used to solve a wide variety of problems. "
   ]
  },
  {
   "cell_type": "code",
   "execution_count": 56,
   "metadata": {},
   "outputs": [],
   "source": [
    "#importing modules and training the data\n",
    "from sklearn.tree import DecisionTreeRegressor\n",
    "\n",
    "#assigning our train and test data variables\n",
    "X_train, X_test, y_train, y_test= train_test_split(features, y, test_size=0.25, random_state=42)"
   ]
  },
  {
   "cell_type": "code",
   "execution_count": 57,
   "metadata": {},
   "outputs": [
    {
     "data": {
      "text/html": [
       "<style>#sk-container-id-4 {color: black;}#sk-container-id-4 pre{padding: 0;}#sk-container-id-4 div.sk-toggleable {background-color: white;}#sk-container-id-4 label.sk-toggleable__label {cursor: pointer;display: block;width: 100%;margin-bottom: 0;padding: 0.3em;box-sizing: border-box;text-align: center;}#sk-container-id-4 label.sk-toggleable__label-arrow:before {content: \"▸\";float: left;margin-right: 0.25em;color: #696969;}#sk-container-id-4 label.sk-toggleable__label-arrow:hover:before {color: black;}#sk-container-id-4 div.sk-estimator:hover label.sk-toggleable__label-arrow:before {color: black;}#sk-container-id-4 div.sk-toggleable__content {max-height: 0;max-width: 0;overflow: hidden;text-align: left;background-color: #f0f8ff;}#sk-container-id-4 div.sk-toggleable__content pre {margin: 0.2em;color: black;border-radius: 0.25em;background-color: #f0f8ff;}#sk-container-id-4 input.sk-toggleable__control:checked~div.sk-toggleable__content {max-height: 200px;max-width: 100%;overflow: auto;}#sk-container-id-4 input.sk-toggleable__control:checked~label.sk-toggleable__label-arrow:before {content: \"▾\";}#sk-container-id-4 div.sk-estimator input.sk-toggleable__control:checked~label.sk-toggleable__label {background-color: #d4ebff;}#sk-container-id-4 div.sk-label input.sk-toggleable__control:checked~label.sk-toggleable__label {background-color: #d4ebff;}#sk-container-id-4 input.sk-hidden--visually {border: 0;clip: rect(1px 1px 1px 1px);clip: rect(1px, 1px, 1px, 1px);height: 1px;margin: -1px;overflow: hidden;padding: 0;position: absolute;width: 1px;}#sk-container-id-4 div.sk-estimator {font-family: monospace;background-color: #f0f8ff;border: 1px dotted black;border-radius: 0.25em;box-sizing: border-box;margin-bottom: 0.5em;}#sk-container-id-4 div.sk-estimator:hover {background-color: #d4ebff;}#sk-container-id-4 div.sk-parallel-item::after {content: \"\";width: 100%;border-bottom: 1px solid gray;flex-grow: 1;}#sk-container-id-4 div.sk-label:hover label.sk-toggleable__label {background-color: #d4ebff;}#sk-container-id-4 div.sk-serial::before {content: \"\";position: absolute;border-left: 1px solid gray;box-sizing: border-box;top: 0;bottom: 0;left: 50%;z-index: 0;}#sk-container-id-4 div.sk-serial {display: flex;flex-direction: column;align-items: center;background-color: white;padding-right: 0.2em;padding-left: 0.2em;position: relative;}#sk-container-id-4 div.sk-item {position: relative;z-index: 1;}#sk-container-id-4 div.sk-parallel {display: flex;align-items: stretch;justify-content: center;background-color: white;position: relative;}#sk-container-id-4 div.sk-item::before, #sk-container-id-4 div.sk-parallel-item::before {content: \"\";position: absolute;border-left: 1px solid gray;box-sizing: border-box;top: 0;bottom: 0;left: 50%;z-index: -1;}#sk-container-id-4 div.sk-parallel-item {display: flex;flex-direction: column;z-index: 1;position: relative;background-color: white;}#sk-container-id-4 div.sk-parallel-item:first-child::after {align-self: flex-end;width: 50%;}#sk-container-id-4 div.sk-parallel-item:last-child::after {align-self: flex-start;width: 50%;}#sk-container-id-4 div.sk-parallel-item:only-child::after {width: 0;}#sk-container-id-4 div.sk-dashed-wrapped {border: 1px dashed gray;margin: 0 0.4em 0.5em 0.4em;box-sizing: border-box;padding-bottom: 0.4em;background-color: white;}#sk-container-id-4 div.sk-label label {font-family: monospace;font-weight: bold;display: inline-block;line-height: 1.2em;}#sk-container-id-4 div.sk-label-container {text-align: center;}#sk-container-id-4 div.sk-container {/* jupyter's `normalize.less` sets `[hidden] { display: none; }` but bootstrap.min.css set `[hidden] { display: none !important; }` so we also need the `!important` here to be able to override the default hidden behavior on the sphinx rendered scikit-learn.org. See: https://github.com/scikit-learn/scikit-learn/issues/21755 */display: inline-block !important;position: relative;}#sk-container-id-4 div.sk-text-repr-fallback {display: none;}</style><div id=\"sk-container-id-4\" class=\"sk-top-container\"><div class=\"sk-text-repr-fallback\"><pre>DecisionTreeRegressor(max_depth=5, random_state=42)</pre><b>In a Jupyter environment, please rerun this cell to show the HTML representation or trust the notebook. <br />On GitHub, the HTML representation is unable to render, please try loading this page with nbviewer.org.</b></div><div class=\"sk-container\" hidden><div class=\"sk-item\"><div class=\"sk-estimator sk-toggleable\"><input class=\"sk-toggleable__control sk-hidden--visually\" id=\"sk-estimator-id-4\" type=\"checkbox\" checked><label for=\"sk-estimator-id-4\" class=\"sk-toggleable__label sk-toggleable__label-arrow\">DecisionTreeRegressor</label><div class=\"sk-toggleable__content\"><pre>DecisionTreeRegressor(max_depth=5, random_state=42)</pre></div></div></div></div></div>"
      ],
      "text/plain": [
       "DecisionTreeRegressor(max_depth=5, random_state=42)"
      ]
     },
     "execution_count": 57,
     "metadata": {},
     "output_type": "execute_result"
    }
   ],
   "source": [
    "# Instantiate and fit a regression tree model to training data \n",
    "tree= DecisionTreeRegressor(random_state=42, max_depth=5)\n",
    "#fitting the data\n",
    "tree.fit(X_train, y_train)"
   ]
  },
  {
   "cell_type": "code",
   "execution_count": 58,
   "metadata": {},
   "outputs": [
    {
     "name": "stdout",
     "output_type": "stream",
     "text": [
      "R-sq score: 0.7023977560594459\n",
      "mean_squared_error {20.062111269642607} , root_mean_squared_error {4.479074822956478}\n"
     ]
    }
   ],
   "source": [
    "# checking the metrics\n",
    "# Make predictions and evaluate the model \n",
    "y_pred = tree.predict(X_test)\n",
    "mse= mean_squared_error(y_test, y_pred)\n",
    "#print('MSE score:', mse(y_test, y_pred))\n",
    "print('R-sq score:', r2_score(y_test,y_pred))\n",
    "rmse= np.sqrt(mse)\n",
    "print(f'mean_squared_error', {mse},', root_mean_squared_error', {rmse})"
   ]
  },
  {
   "cell_type": "markdown",
   "metadata": {},
   "source": [
    "From the above evaluation:\n",
    "* MSE- measure of the average squared difference between the predicted values and the actual values. We can tune the model to see if we can get a smaller MSE score.\n",
    "\n",
    "* The R-squared score is a measure of how well the model fits the data. A high R-squared score indicates that the model fits the data well, while a low R-squared score indicates that the model does not fit the data well. Our model doesnt fit the data well."
   ]
  },
  {
   "cell_type": "markdown",
   "metadata": {},
   "source": [
    "### 4.1 Scaling the Data\n",
    "The StandardScaler is a type of transformation that scales the data such that the mean is 0 and the standard deviation is 1. We will use it since, it can help to improve the performance of the model."
   ]
  },
  {
   "cell_type": "code",
   "execution_count": 59,
   "metadata": {},
   "outputs": [],
   "source": [
    "#creating an instance\n",
    "scaler= StandardScaler()\n",
    "#fitting the data\n",
    "sld_train= scaler.fit_transform(X_train)\n",
    "sld_test= scaler.transform(X_test)"
   ]
  },
  {
   "cell_type": "code",
   "execution_count": 60,
   "metadata": {},
   "outputs": [
    {
     "data": {
      "text/html": [
       "<style>#sk-container-id-5 {color: black;}#sk-container-id-5 pre{padding: 0;}#sk-container-id-5 div.sk-toggleable {background-color: white;}#sk-container-id-5 label.sk-toggleable__label {cursor: pointer;display: block;width: 100%;margin-bottom: 0;padding: 0.3em;box-sizing: border-box;text-align: center;}#sk-container-id-5 label.sk-toggleable__label-arrow:before {content: \"▸\";float: left;margin-right: 0.25em;color: #696969;}#sk-container-id-5 label.sk-toggleable__label-arrow:hover:before {color: black;}#sk-container-id-5 div.sk-estimator:hover label.sk-toggleable__label-arrow:before {color: black;}#sk-container-id-5 div.sk-toggleable__content {max-height: 0;max-width: 0;overflow: hidden;text-align: left;background-color: #f0f8ff;}#sk-container-id-5 div.sk-toggleable__content pre {margin: 0.2em;color: black;border-radius: 0.25em;background-color: #f0f8ff;}#sk-container-id-5 input.sk-toggleable__control:checked~div.sk-toggleable__content {max-height: 200px;max-width: 100%;overflow: auto;}#sk-container-id-5 input.sk-toggleable__control:checked~label.sk-toggleable__label-arrow:before {content: \"▾\";}#sk-container-id-5 div.sk-estimator input.sk-toggleable__control:checked~label.sk-toggleable__label {background-color: #d4ebff;}#sk-container-id-5 div.sk-label input.sk-toggleable__control:checked~label.sk-toggleable__label {background-color: #d4ebff;}#sk-container-id-5 input.sk-hidden--visually {border: 0;clip: rect(1px 1px 1px 1px);clip: rect(1px, 1px, 1px, 1px);height: 1px;margin: -1px;overflow: hidden;padding: 0;position: absolute;width: 1px;}#sk-container-id-5 div.sk-estimator {font-family: monospace;background-color: #f0f8ff;border: 1px dotted black;border-radius: 0.25em;box-sizing: border-box;margin-bottom: 0.5em;}#sk-container-id-5 div.sk-estimator:hover {background-color: #d4ebff;}#sk-container-id-5 div.sk-parallel-item::after {content: \"\";width: 100%;border-bottom: 1px solid gray;flex-grow: 1;}#sk-container-id-5 div.sk-label:hover label.sk-toggleable__label {background-color: #d4ebff;}#sk-container-id-5 div.sk-serial::before {content: \"\";position: absolute;border-left: 1px solid gray;box-sizing: border-box;top: 0;bottom: 0;left: 50%;z-index: 0;}#sk-container-id-5 div.sk-serial {display: flex;flex-direction: column;align-items: center;background-color: white;padding-right: 0.2em;padding-left: 0.2em;position: relative;}#sk-container-id-5 div.sk-item {position: relative;z-index: 1;}#sk-container-id-5 div.sk-parallel {display: flex;align-items: stretch;justify-content: center;background-color: white;position: relative;}#sk-container-id-5 div.sk-item::before, #sk-container-id-5 div.sk-parallel-item::before {content: \"\";position: absolute;border-left: 1px solid gray;box-sizing: border-box;top: 0;bottom: 0;left: 50%;z-index: -1;}#sk-container-id-5 div.sk-parallel-item {display: flex;flex-direction: column;z-index: 1;position: relative;background-color: white;}#sk-container-id-5 div.sk-parallel-item:first-child::after {align-self: flex-end;width: 50%;}#sk-container-id-5 div.sk-parallel-item:last-child::after {align-self: flex-start;width: 50%;}#sk-container-id-5 div.sk-parallel-item:only-child::after {width: 0;}#sk-container-id-5 div.sk-dashed-wrapped {border: 1px dashed gray;margin: 0 0.4em 0.5em 0.4em;box-sizing: border-box;padding-bottom: 0.4em;background-color: white;}#sk-container-id-5 div.sk-label label {font-family: monospace;font-weight: bold;display: inline-block;line-height: 1.2em;}#sk-container-id-5 div.sk-label-container {text-align: center;}#sk-container-id-5 div.sk-container {/* jupyter's `normalize.less` sets `[hidden] { display: none; }` but bootstrap.min.css set `[hidden] { display: none !important; }` so we also need the `!important` here to be able to override the default hidden behavior on the sphinx rendered scikit-learn.org. See: https://github.com/scikit-learn/scikit-learn/issues/21755 */display: inline-block !important;position: relative;}#sk-container-id-5 div.sk-text-repr-fallback {display: none;}</style><div id=\"sk-container-id-5\" class=\"sk-top-container\"><div class=\"sk-text-repr-fallback\"><pre>DecisionTreeRegressor(max_depth=2, random_state=42)</pre><b>In a Jupyter environment, please rerun this cell to show the HTML representation or trust the notebook. <br />On GitHub, the HTML representation is unable to render, please try loading this page with nbviewer.org.</b></div><div class=\"sk-container\" hidden><div class=\"sk-item\"><div class=\"sk-estimator sk-toggleable\"><input class=\"sk-toggleable__control sk-hidden--visually\" id=\"sk-estimator-id-5\" type=\"checkbox\" checked><label for=\"sk-estimator-id-5\" class=\"sk-toggleable__label sk-toggleable__label-arrow\">DecisionTreeRegressor</label><div class=\"sk-toggleable__content\"><pre>DecisionTreeRegressor(max_depth=2, random_state=42)</pre></div></div></div></div></div>"
      ],
      "text/plain": [
       "DecisionTreeRegressor(max_depth=2, random_state=42)"
      ]
     },
     "execution_count": 60,
     "metadata": {},
     "output_type": "execute_result"
    }
   ],
   "source": [
    "#creating an instant of decision tree\n",
    "tree_2= DecisionTreeRegressor(random_state=42, max_depth=2)\n",
    "#fitting the data\n",
    "tree_2.fit(sld_train, y_train)"
   ]
  },
  {
   "cell_type": "code",
   "execution_count": 61,
   "metadata": {},
   "outputs": [
    {
     "name": "stdout",
     "output_type": "stream",
     "text": [
      "R-sq score: 0.45381601371717517\n",
      "mean_squared_error {36.819627975290935} , root_mean_squared_error {6.067917927534199}\n"
     ]
    }
   ],
   "source": [
    "#making predictions and evaluating model performance\n",
    "y_pred2 = tree_2.predict(sld_test)\n",
    "# metrics for evaluating the tree\n",
    "mse= mean_squared_error(y_test, y_pred2)\n",
    "#print('MSE score:', mse(y_test, y_pred))\n",
    "print('R-sq score:', r2_score(y_test,y_pred2))\n",
    "rmse= np.sqrt(mse)\n",
    "print(f'mean_squared_error', {mse},', root_mean_squared_error', {rmse})"
   ]
  },
  {
   "cell_type": "markdown",
   "metadata": {},
   "source": [
    "After scaling the data, the mean squared increased, it means that the standard scaler is not a good fit for data. while the r squared decreased abit there is still room for model improvement."
   ]
  },
  {
   "cell_type": "markdown",
   "metadata": {},
   "source": [
    "* Using minmaxscaler to scale the data to see if it will improve the model performance."
   ]
  },
  {
   "cell_type": "code",
   "execution_count": 62,
   "metadata": {},
   "outputs": [],
   "source": [
    "# importing the necessary libraries\n",
    "from sklearn.preprocessing import MinMaxScaler\n",
    "\n",
    "# Create a MinMaxScaler object.\n",
    "scaler = MinMaxScaler()\n",
    "\n",
    "# Fit the MinMaxScaler to the data.\n",
    "train= scaler.fit_transform(X_train, y_train)\n",
    "\n",
    "# Transform the data using the MinMaxScaler.\n",
    "test_scaled = scaler.transform(X_test)"
   ]
  },
  {
   "cell_type": "code",
   "execution_count": 63,
   "metadata": {},
   "outputs": [
    {
     "data": {
      "text/html": [
       "<style>#sk-container-id-6 {color: black;}#sk-container-id-6 pre{padding: 0;}#sk-container-id-6 div.sk-toggleable {background-color: white;}#sk-container-id-6 label.sk-toggleable__label {cursor: pointer;display: block;width: 100%;margin-bottom: 0;padding: 0.3em;box-sizing: border-box;text-align: center;}#sk-container-id-6 label.sk-toggleable__label-arrow:before {content: \"▸\";float: left;margin-right: 0.25em;color: #696969;}#sk-container-id-6 label.sk-toggleable__label-arrow:hover:before {color: black;}#sk-container-id-6 div.sk-estimator:hover label.sk-toggleable__label-arrow:before {color: black;}#sk-container-id-6 div.sk-toggleable__content {max-height: 0;max-width: 0;overflow: hidden;text-align: left;background-color: #f0f8ff;}#sk-container-id-6 div.sk-toggleable__content pre {margin: 0.2em;color: black;border-radius: 0.25em;background-color: #f0f8ff;}#sk-container-id-6 input.sk-toggleable__control:checked~div.sk-toggleable__content {max-height: 200px;max-width: 100%;overflow: auto;}#sk-container-id-6 input.sk-toggleable__control:checked~label.sk-toggleable__label-arrow:before {content: \"▾\";}#sk-container-id-6 div.sk-estimator input.sk-toggleable__control:checked~label.sk-toggleable__label {background-color: #d4ebff;}#sk-container-id-6 div.sk-label input.sk-toggleable__control:checked~label.sk-toggleable__label {background-color: #d4ebff;}#sk-container-id-6 input.sk-hidden--visually {border: 0;clip: rect(1px 1px 1px 1px);clip: rect(1px, 1px, 1px, 1px);height: 1px;margin: -1px;overflow: hidden;padding: 0;position: absolute;width: 1px;}#sk-container-id-6 div.sk-estimator {font-family: monospace;background-color: #f0f8ff;border: 1px dotted black;border-radius: 0.25em;box-sizing: border-box;margin-bottom: 0.5em;}#sk-container-id-6 div.sk-estimator:hover {background-color: #d4ebff;}#sk-container-id-6 div.sk-parallel-item::after {content: \"\";width: 100%;border-bottom: 1px solid gray;flex-grow: 1;}#sk-container-id-6 div.sk-label:hover label.sk-toggleable__label {background-color: #d4ebff;}#sk-container-id-6 div.sk-serial::before {content: \"\";position: absolute;border-left: 1px solid gray;box-sizing: border-box;top: 0;bottom: 0;left: 50%;z-index: 0;}#sk-container-id-6 div.sk-serial {display: flex;flex-direction: column;align-items: center;background-color: white;padding-right: 0.2em;padding-left: 0.2em;position: relative;}#sk-container-id-6 div.sk-item {position: relative;z-index: 1;}#sk-container-id-6 div.sk-parallel {display: flex;align-items: stretch;justify-content: center;background-color: white;position: relative;}#sk-container-id-6 div.sk-item::before, #sk-container-id-6 div.sk-parallel-item::before {content: \"\";position: absolute;border-left: 1px solid gray;box-sizing: border-box;top: 0;bottom: 0;left: 50%;z-index: -1;}#sk-container-id-6 div.sk-parallel-item {display: flex;flex-direction: column;z-index: 1;position: relative;background-color: white;}#sk-container-id-6 div.sk-parallel-item:first-child::after {align-self: flex-end;width: 50%;}#sk-container-id-6 div.sk-parallel-item:last-child::after {align-self: flex-start;width: 50%;}#sk-container-id-6 div.sk-parallel-item:only-child::after {width: 0;}#sk-container-id-6 div.sk-dashed-wrapped {border: 1px dashed gray;margin: 0 0.4em 0.5em 0.4em;box-sizing: border-box;padding-bottom: 0.4em;background-color: white;}#sk-container-id-6 div.sk-label label {font-family: monospace;font-weight: bold;display: inline-block;line-height: 1.2em;}#sk-container-id-6 div.sk-label-container {text-align: center;}#sk-container-id-6 div.sk-container {/* jupyter's `normalize.less` sets `[hidden] { display: none; }` but bootstrap.min.css set `[hidden] { display: none !important; }` so we also need the `!important` here to be able to override the default hidden behavior on the sphinx rendered scikit-learn.org. See: https://github.com/scikit-learn/scikit-learn/issues/21755 */display: inline-block !important;position: relative;}#sk-container-id-6 div.sk-text-repr-fallback {display: none;}</style><div id=\"sk-container-id-6\" class=\"sk-top-container\"><div class=\"sk-text-repr-fallback\"><pre>DecisionTreeRegressor(max_depth=2, random_state=42)</pre><b>In a Jupyter environment, please rerun this cell to show the HTML representation or trust the notebook. <br />On GitHub, the HTML representation is unable to render, please try loading this page with nbviewer.org.</b></div><div class=\"sk-container\" hidden><div class=\"sk-item\"><div class=\"sk-estimator sk-toggleable\"><input class=\"sk-toggleable__control sk-hidden--visually\" id=\"sk-estimator-id-6\" type=\"checkbox\" checked><label for=\"sk-estimator-id-6\" class=\"sk-toggleable__label sk-toggleable__label-arrow\">DecisionTreeRegressor</label><div class=\"sk-toggleable__content\"><pre>DecisionTreeRegressor(max_depth=2, random_state=42)</pre></div></div></div></div></div>"
      ],
      "text/plain": [
       "DecisionTreeRegressor(max_depth=2, random_state=42)"
      ]
     },
     "execution_count": 63,
     "metadata": {},
     "output_type": "execute_result"
    }
   ],
   "source": [
    "#creating an instant of decision tree\n",
    "tree_3= DecisionTreeRegressor(random_state=42, max_depth=2)\n",
    "#fitting the data\n",
    "tree_3.fit(train, y_train)"
   ]
  },
  {
   "cell_type": "code",
   "execution_count": 64,
   "metadata": {},
   "outputs": [
    {
     "name": "stdout",
     "output_type": "stream",
     "text": [
      "R-sq score: 0.45381601371717517\n",
      "mean_squared_error {36.819627975290935} , root_mean_squared_error {6.067917927534199}\n"
     ]
    }
   ],
   "source": [
    "#making predictions and evaluating model performance\n",
    "y_pred3 = tree_3.predict(test_scaled)\n",
    "# metrics for evaluating the tree\n",
    "mse= mean_squared_error(y_test, y_pred3)\n",
    "#print('MSE score:', mse(y_test, y_pred))\n",
    "print('R-sq score:', r2_score(y_test,y_pred3))\n",
    "rmse= np.sqrt(mse)\n",
    "print(f'mean_squared_error', {mse},', root_mean_squared_error', {rmse})"
   ]
  },
  {
   "cell_type": "markdown",
   "metadata": {},
   "source": [
    "The mean squared error and rsquared remained the same, it means that the minmaxscaler did not have a significant impact on the model. "
   ]
  },
  {
   "cell_type": "markdown",
   "metadata": {},
   "source": [
    "\n",
    "### 4.2 GridSearchCV\n",
    " This is a hyperparameter tuning method that is used to find the best hyperparameters for a machine learning model. It is often used in combination with cross-validation to ensure that the model is not overfitting the training data."
   ]
  },
  {
   "cell_type": "code",
   "execution_count": 65,
   "metadata": {},
   "outputs": [
    {
     "name": "stdout",
     "output_type": "stream",
     "text": [
      "Best parameters:{'max_depth': 5, 'min_samples_leaf': 2, 'min_samples_split': 2}\n",
      "Best score:0.6796368720244386\n"
     ]
    }
   ],
   "source": [
    "tree_3 = DecisionTreeRegressor()\n",
    "#defining the parameters for gridsearch\n",
    "param_grid= {\n",
    "    'max_depth':[1,3,5],\n",
    "    'min_samples_split':[1,2],\n",
    "    'min_samples_leaf': [1,2]\n",
    "\n",
    "    }\n",
    "#creating instance of gridsearch\n",
    "grid= GridSearchCV(tree_3, param_grid, cv=2)\n",
    "#fitting  the data\n",
    "grid.fit(X_train, y_train)\n",
    "#printing the parameters and score\n",
    "print(f'Best parameters:{grid.best_params_}')\n",
    "print(f'Best score:{grid.best_score_}');"
   ]
  },
  {
   "cell_type": "markdown",
   "metadata": {},
   "source": [
    "The best parameters to use are:\n",
    "* max_depth = 5\n",
    "* min_samples_leaf =1\n",
    "* min_samples_split = 2"
   ]
  },
  {
   "cell_type": "code",
   "execution_count": 66,
   "metadata": {},
   "outputs": [
    {
     "data": {
      "text/html": [
       "<style>#sk-container-id-7 {color: black;}#sk-container-id-7 pre{padding: 0;}#sk-container-id-7 div.sk-toggleable {background-color: white;}#sk-container-id-7 label.sk-toggleable__label {cursor: pointer;display: block;width: 100%;margin-bottom: 0;padding: 0.3em;box-sizing: border-box;text-align: center;}#sk-container-id-7 label.sk-toggleable__label-arrow:before {content: \"▸\";float: left;margin-right: 0.25em;color: #696969;}#sk-container-id-7 label.sk-toggleable__label-arrow:hover:before {color: black;}#sk-container-id-7 div.sk-estimator:hover label.sk-toggleable__label-arrow:before {color: black;}#sk-container-id-7 div.sk-toggleable__content {max-height: 0;max-width: 0;overflow: hidden;text-align: left;background-color: #f0f8ff;}#sk-container-id-7 div.sk-toggleable__content pre {margin: 0.2em;color: black;border-radius: 0.25em;background-color: #f0f8ff;}#sk-container-id-7 input.sk-toggleable__control:checked~div.sk-toggleable__content {max-height: 200px;max-width: 100%;overflow: auto;}#sk-container-id-7 input.sk-toggleable__control:checked~label.sk-toggleable__label-arrow:before {content: \"▾\";}#sk-container-id-7 div.sk-estimator input.sk-toggleable__control:checked~label.sk-toggleable__label {background-color: #d4ebff;}#sk-container-id-7 div.sk-label input.sk-toggleable__control:checked~label.sk-toggleable__label {background-color: #d4ebff;}#sk-container-id-7 input.sk-hidden--visually {border: 0;clip: rect(1px 1px 1px 1px);clip: rect(1px, 1px, 1px, 1px);height: 1px;margin: -1px;overflow: hidden;padding: 0;position: absolute;width: 1px;}#sk-container-id-7 div.sk-estimator {font-family: monospace;background-color: #f0f8ff;border: 1px dotted black;border-radius: 0.25em;box-sizing: border-box;margin-bottom: 0.5em;}#sk-container-id-7 div.sk-estimator:hover {background-color: #d4ebff;}#sk-container-id-7 div.sk-parallel-item::after {content: \"\";width: 100%;border-bottom: 1px solid gray;flex-grow: 1;}#sk-container-id-7 div.sk-label:hover label.sk-toggleable__label {background-color: #d4ebff;}#sk-container-id-7 div.sk-serial::before {content: \"\";position: absolute;border-left: 1px solid gray;box-sizing: border-box;top: 0;bottom: 0;left: 50%;z-index: 0;}#sk-container-id-7 div.sk-serial {display: flex;flex-direction: column;align-items: center;background-color: white;padding-right: 0.2em;padding-left: 0.2em;position: relative;}#sk-container-id-7 div.sk-item {position: relative;z-index: 1;}#sk-container-id-7 div.sk-parallel {display: flex;align-items: stretch;justify-content: center;background-color: white;position: relative;}#sk-container-id-7 div.sk-item::before, #sk-container-id-7 div.sk-parallel-item::before {content: \"\";position: absolute;border-left: 1px solid gray;box-sizing: border-box;top: 0;bottom: 0;left: 50%;z-index: -1;}#sk-container-id-7 div.sk-parallel-item {display: flex;flex-direction: column;z-index: 1;position: relative;background-color: white;}#sk-container-id-7 div.sk-parallel-item:first-child::after {align-self: flex-end;width: 50%;}#sk-container-id-7 div.sk-parallel-item:last-child::after {align-self: flex-start;width: 50%;}#sk-container-id-7 div.sk-parallel-item:only-child::after {width: 0;}#sk-container-id-7 div.sk-dashed-wrapped {border: 1px dashed gray;margin: 0 0.4em 0.5em 0.4em;box-sizing: border-box;padding-bottom: 0.4em;background-color: white;}#sk-container-id-7 div.sk-label label {font-family: monospace;font-weight: bold;display: inline-block;line-height: 1.2em;}#sk-container-id-7 div.sk-label-container {text-align: center;}#sk-container-id-7 div.sk-container {/* jupyter's `normalize.less` sets `[hidden] { display: none; }` but bootstrap.min.css set `[hidden] { display: none !important; }` so we also need the `!important` here to be able to override the default hidden behavior on the sphinx rendered scikit-learn.org. See: https://github.com/scikit-learn/scikit-learn/issues/21755 */display: inline-block !important;position: relative;}#sk-container-id-7 div.sk-text-repr-fallback {display: none;}</style><div id=\"sk-container-id-7\" class=\"sk-top-container\"><div class=\"sk-text-repr-fallback\"><pre>DecisionTreeRegressor(max_depth=5)</pre><b>In a Jupyter environment, please rerun this cell to show the HTML representation or trust the notebook. <br />On GitHub, the HTML representation is unable to render, please try loading this page with nbviewer.org.</b></div><div class=\"sk-container\" hidden><div class=\"sk-item\"><div class=\"sk-estimator sk-toggleable\"><input class=\"sk-toggleable__control sk-hidden--visually\" id=\"sk-estimator-id-7\" type=\"checkbox\" checked><label for=\"sk-estimator-id-7\" class=\"sk-toggleable__label sk-toggleable__label-arrow\">DecisionTreeRegressor</label><div class=\"sk-toggleable__content\"><pre>DecisionTreeRegressor(max_depth=5)</pre></div></div></div></div></div>"
      ],
      "text/plain": [
       "DecisionTreeRegressor(max_depth=5)"
      ]
     },
     "execution_count": 66,
     "metadata": {},
     "output_type": "execute_result"
    }
   ],
   "source": [
    "#final model with best parameters\n",
    "#creating an instance of tree\n",
    "tree_4= DecisionTreeRegressor(max_depth=5, min_samples_leaf=1, min_samples_split=2)\n",
    "#fitting the data\n",
    "tree_4.fit(X_train, y_train)\n"
   ]
  },
  {
   "cell_type": "code",
   "execution_count": 67,
   "metadata": {},
   "outputs": [
    {
     "name": "stdout",
     "output_type": "stream",
     "text": [
      "R-sq score: 0.7043558498847751\n",
      "mean_squared_error {19.930111269642605} , root_mean_squared_error {4.464315319244666}\n"
     ]
    }
   ],
   "source": [
    "#performing the predictons on test data\n",
    "y_pred3 = tree_4.predict(X_test)\n",
    "mse= mean_squared_error(y_test, y_pred3)\n",
    "#print('MSE score:', mse(y_test, y_pred))\n",
    "print('R-sq score:', r2_score(y_test,y_pred3))\n",
    "rmse= np.sqrt(mse)\n",
    "print(f'mean_squared_error', {mse},', root_mean_squared_error', {rmse})"
   ]
  },
  {
   "cell_type": "markdown",
   "metadata": {},
   "source": [
    "Using the best parameters, we can see:\n",
    "* The MSE score remained the same\n",
    "* The R_squared also remained the same as our first decision tree model."
   ]
  },
  {
   "cell_type": "markdown",
   "metadata": {},
   "source": [
    "In conclusion, with an MSE of 17.04, it suggests that the models predictions deviate from the actual values by an average squared difference of 17.04 units. R-squared of 0.8 indicates that approximately 80% of the variance in the target variable is explained by the model. This means the model captures a substantial portion of the relationship between the input features and the target variable."
   ]
  },
  {
   "cell_type": "markdown",
   "metadata": {},
   "source": [
    "## 5.Logistic Regression\n",
    "Logistic regression is a statistical model that is used to predict the probability of an event occurring. It is a type of linear regression model, but instead of predicting a continuous value, it predicts the probability of a binary outcome."
   ]
  },
  {
   "cell_type": "code",
   "execution_count": 68,
   "metadata": {},
   "outputs": [],
   "source": [
    "# importing the libraries\n",
    "import statsmodels.api as sm\n",
    "import sklearn.preprocessing as preprocessing\n",
    "from scipy.sparse import coo_matrix\n",
    "from  sklearn.linear_model  import LogisticRegression\n",
    "from sklearn.metrics import accuracy_score\n",
    "from scipy import stats\n"
   ]
  },
  {
   "cell_type": "code",
   "execution_count": 69,
   "metadata": {},
   "outputs": [],
   "source": [
    "#making a classification\n",
    "from sklearn.datasets import make_classification\n",
    "\n",
    "X, y = make_classification()"
   ]
  },
  {
   "cell_type": "code",
   "execution_count": 70,
   "metadata": {},
   "outputs": [],
   "source": [
    "#splitting the data\n",
    "X_train, X_test, y_train, y_test = train_test_split(X, y, test_size=0.25, random_state=42)"
   ]
  },
  {
   "cell_type": "code",
   "execution_count": 71,
   "metadata": {},
   "outputs": [],
   "source": [
    "#initializing the model\n",
    "logisticReg = LogisticRegression()"
   ]
  },
  {
   "cell_type": "code",
   "execution_count": 72,
   "metadata": {},
   "outputs": [
    {
     "data": {
      "text/html": [
       "<style>#sk-container-id-8 {color: black;}#sk-container-id-8 pre{padding: 0;}#sk-container-id-8 div.sk-toggleable {background-color: white;}#sk-container-id-8 label.sk-toggleable__label {cursor: pointer;display: block;width: 100%;margin-bottom: 0;padding: 0.3em;box-sizing: border-box;text-align: center;}#sk-container-id-8 label.sk-toggleable__label-arrow:before {content: \"▸\";float: left;margin-right: 0.25em;color: #696969;}#sk-container-id-8 label.sk-toggleable__label-arrow:hover:before {color: black;}#sk-container-id-8 div.sk-estimator:hover label.sk-toggleable__label-arrow:before {color: black;}#sk-container-id-8 div.sk-toggleable__content {max-height: 0;max-width: 0;overflow: hidden;text-align: left;background-color: #f0f8ff;}#sk-container-id-8 div.sk-toggleable__content pre {margin: 0.2em;color: black;border-radius: 0.25em;background-color: #f0f8ff;}#sk-container-id-8 input.sk-toggleable__control:checked~div.sk-toggleable__content {max-height: 200px;max-width: 100%;overflow: auto;}#sk-container-id-8 input.sk-toggleable__control:checked~label.sk-toggleable__label-arrow:before {content: \"▾\";}#sk-container-id-8 div.sk-estimator input.sk-toggleable__control:checked~label.sk-toggleable__label {background-color: #d4ebff;}#sk-container-id-8 div.sk-label input.sk-toggleable__control:checked~label.sk-toggleable__label {background-color: #d4ebff;}#sk-container-id-8 input.sk-hidden--visually {border: 0;clip: rect(1px 1px 1px 1px);clip: rect(1px, 1px, 1px, 1px);height: 1px;margin: -1px;overflow: hidden;padding: 0;position: absolute;width: 1px;}#sk-container-id-8 div.sk-estimator {font-family: monospace;background-color: #f0f8ff;border: 1px dotted black;border-radius: 0.25em;box-sizing: border-box;margin-bottom: 0.5em;}#sk-container-id-8 div.sk-estimator:hover {background-color: #d4ebff;}#sk-container-id-8 div.sk-parallel-item::after {content: \"\";width: 100%;border-bottom: 1px solid gray;flex-grow: 1;}#sk-container-id-8 div.sk-label:hover label.sk-toggleable__label {background-color: #d4ebff;}#sk-container-id-8 div.sk-serial::before {content: \"\";position: absolute;border-left: 1px solid gray;box-sizing: border-box;top: 0;bottom: 0;left: 50%;z-index: 0;}#sk-container-id-8 div.sk-serial {display: flex;flex-direction: column;align-items: center;background-color: white;padding-right: 0.2em;padding-left: 0.2em;position: relative;}#sk-container-id-8 div.sk-item {position: relative;z-index: 1;}#sk-container-id-8 div.sk-parallel {display: flex;align-items: stretch;justify-content: center;background-color: white;position: relative;}#sk-container-id-8 div.sk-item::before, #sk-container-id-8 div.sk-parallel-item::before {content: \"\";position: absolute;border-left: 1px solid gray;box-sizing: border-box;top: 0;bottom: 0;left: 50%;z-index: -1;}#sk-container-id-8 div.sk-parallel-item {display: flex;flex-direction: column;z-index: 1;position: relative;background-color: white;}#sk-container-id-8 div.sk-parallel-item:first-child::after {align-self: flex-end;width: 50%;}#sk-container-id-8 div.sk-parallel-item:last-child::after {align-self: flex-start;width: 50%;}#sk-container-id-8 div.sk-parallel-item:only-child::after {width: 0;}#sk-container-id-8 div.sk-dashed-wrapped {border: 1px dashed gray;margin: 0 0.4em 0.5em 0.4em;box-sizing: border-box;padding-bottom: 0.4em;background-color: white;}#sk-container-id-8 div.sk-label label {font-family: monospace;font-weight: bold;display: inline-block;line-height: 1.2em;}#sk-container-id-8 div.sk-label-container {text-align: center;}#sk-container-id-8 div.sk-container {/* jupyter's `normalize.less` sets `[hidden] { display: none; }` but bootstrap.min.css set `[hidden] { display: none !important; }` so we also need the `!important` here to be able to override the default hidden behavior on the sphinx rendered scikit-learn.org. See: https://github.com/scikit-learn/scikit-learn/issues/21755 */display: inline-block !important;position: relative;}#sk-container-id-8 div.sk-text-repr-fallback {display: none;}</style><div id=\"sk-container-id-8\" class=\"sk-top-container\"><div class=\"sk-text-repr-fallback\"><pre>LogisticRegression()</pre><b>In a Jupyter environment, please rerun this cell to show the HTML representation or trust the notebook. <br />On GitHub, the HTML representation is unable to render, please try loading this page with nbviewer.org.</b></div><div class=\"sk-container\" hidden><div class=\"sk-item\"><div class=\"sk-estimator sk-toggleable\"><input class=\"sk-toggleable__control sk-hidden--visually\" id=\"sk-estimator-id-8\" type=\"checkbox\" checked><label for=\"sk-estimator-id-8\" class=\"sk-toggleable__label sk-toggleable__label-arrow\">LogisticRegression</label><div class=\"sk-toggleable__content\"><pre>LogisticRegression()</pre></div></div></div></div></div>"
      ],
      "text/plain": [
       "LogisticRegression()"
      ]
     },
     "execution_count": 72,
     "metadata": {},
     "output_type": "execute_result"
    }
   ],
   "source": [
    "# fitting the data\n",
    "model_log =logisticReg.fit(X_train, y_train)\n",
    "model_log"
   ]
  },
  {
   "cell_type": "code",
   "execution_count": 73,
   "metadata": {},
   "outputs": [
    {
     "data": {
      "text/plain": [
       "array([[-0.13991901,  0.8745023 , -0.40220155, -0.09081494, -0.87052468,\n",
       "         0.34594259, -0.68237697, -0.50011374,  0.59810991,  0.71193598,\n",
       "         0.22807115, -0.13063968, -0.37908984, -0.5980577 , -0.63990002,\n",
       "        -0.08299056, -0.84546591, -0.35526747,  1.17466608, -0.16907408]])"
      ]
     },
     "execution_count": 73,
     "metadata": {},
     "output_type": "execute_result"
    }
   ],
   "source": [
    "#checking the coefficients\n",
    "model_log.coef_"
   ]
  },
  {
   "cell_type": "code",
   "execution_count": 74,
   "metadata": {},
   "outputs": [
    {
     "data": {
      "text/plain": [
       "array([0, 1, 1, 0, 1, 1, 0, 0, 1, 0, 0, 1, 0, 1, 0, 0, 0, 1, 1, 1, 0, 0,\n",
       "       1, 1, 1])"
      ]
     },
     "execution_count": 74,
     "metadata": {},
     "output_type": "execute_result"
    }
   ],
   "source": [
    "# predicting the test data\n",
    "y_pred =logisticReg.predict(X_test)\n",
    "y_pred"
   ]
  },
  {
   "cell_type": "markdown",
   "metadata": {},
   "source": [
    "## Measuring model performance\n",
    "### 1: Accuracy\n",
    "Accuracy is a measure of how well a model predicts the correct output. It is calculated by dividing the number of correct predictions by the total number of predictions. Accuracy is a useful metric for evaluating models, but it can be misleading if the data is imbalanced."
   ]
  },
  {
   "cell_type": "code",
   "execution_count": 75,
   "metadata": {},
   "outputs": [
    {
     "name": "stdout",
     "output_type": "stream",
     "text": [
      "Accuracy: 0.8\n"
     ]
    }
   ],
   "source": [
    "from sklearn.metrics import accuracy_score\n",
    "\n",
    "# Predict on the test set\n",
    "y_pred = logisticReg.predict(X_test)\n",
    "\n",
    "# Calculate accuracy\n",
    "accuracy = accuracy_score(y_test, y_pred)\n",
    "print(\"Accuracy:\", accuracy)"
   ]
  },
  {
   "cell_type": "markdown",
   "metadata": {},
   "source": [
    "The accuracy of 0.92 means that the model is 92% accurate in predicting the output."
   ]
  },
  {
   "cell_type": "code",
   "execution_count": 76,
   "metadata": {},
   "outputs": [
    {
     "name": "stdout",
     "output_type": "stream",
     "text": [
      "Fold 1: Accuracy = 0.800\n",
      "Fold 2: Accuracy = 0.900\n",
      "Fold 3: Accuracy = 0.750\n",
      "Fold 4: Accuracy = 0.700\n",
      "Fold 5: Accuracy = 0.650\n",
      "\n",
      "Mean Accuracy: 0.760\n",
      "Standard Deviation of Accuracy: 0.086\n"
     ]
    }
   ],
   "source": [
    "# Perform k-fold cross-validation and calculate accuracy scores\n",
    "cv_scores = cross_val_score(logisticReg, X, y, cv=5, scoring='accuracy')\n",
    "\n",
    "# Print accuracy scores for each fold\n",
    "for fold, accuracy in enumerate(cv_scores, start=1):\n",
    "    print(f\"Fold {fold}: Accuracy = {accuracy:.3f}\")\n",
    "\n",
    "# Calculate mean and standard deviation of accuracy scores\n",
    "mean_accuracy = np.mean(cv_scores)\n",
    "std_accuracy = np.std(cv_scores)\n",
    "print(f\"\\nMean Accuracy: {mean_accuracy:.3f}\")\n",
    "print(f\"Standard Deviation of Accuracy: {std_accuracy:.3f}\")"
   ]
  },
  {
   "cell_type": "markdown",
   "metadata": {},
   "source": [
    "#### Confusion Matrix\n",
    "A confusion matrix is a table that is used to summarize the performance of a classification model. It shows the number of true positives, false positives, true negatives, and false negatives. The true positives are the instances where the model correctly predicted the positive class. The false positives are the instances where the model incorrectly predicted the positive class. The true negatives are the instances where the model correctly predicted the negative class. The false negatives are the instances where the model incorrectly predicted the negative class.\n",
    "\n",
    "The confusion matrix is a useful tool for evaluating the performance of a classification model. It can help to identify the strengths and weaknesses of the model. For example, if the model has a high number of false positives, then it may be overfitting the data. If the model has a high number of false negatives, then it may be underfitting the data."
   ]
  },
  {
   "cell_type": "code",
   "execution_count": 77,
   "metadata": {},
   "outputs": [
    {
     "data": {
      "image/png": "[encoded data removed]",
      "text/plain": [
       "<Figure size 400x400 with 1 Axes>"
      ]
     },
     "metadata": {},
     "output_type": "display_data"
    }
   ],
   "source": [
    "import seaborn as sns\n",
    "import matplotlib.pyplot as plt\n",
    "from sklearn.metrics import confusion_matrix\n",
    "\n",
    "# Get predicted labels for the test set\n",
    "y_pred = logisticReg.predict(X_test)\n",
    "\n",
    "# Calculate confusion matrix\n",
    "conf_matrix = confusion_matrix(y_test, y_pred)\n",
    "conf_matrix\n",
    "# Create a heatmap of the confusion matrix\n",
    "plt.figure(figsize=(4,4))\n",
    "sns.heatmap(conf_matrix, annot=True, fmt=\"d\", cmap=\"Blues\", cbar=False, annot_kws={\"size\": 14})\n",
    "plt.xlabel(\"Predicted Label\")\n",
    "plt.ylabel(\"True Label\")\n",
    "plt.title(\"Confusion Matrix\")\n",
    "plt.xticks(ticks=[0.5, 1.5], labels=[\"Class 0\", \"Class 1\"])\n",
    "plt.yticks(ticks=[0.5, 1.5], labels=[\"Class 0\", \"Class 1\"])\n",
    "plt.show()\n"
   ]
  },
  {
   "cell_type": "markdown",
   "metadata": {},
   "source": [
    "#### Classification_report\n",
    "A classification report is a table that summarizes the performance of a classification model. It contains the following information:\n",
    "\n",
    "* Accuracy: The overall accuracy of the model.\n",
    "* Precision: The proportion of true positives out of all positive predictions.\n",
    "* Recall: The proportion of true positives out of all actual positives.\n",
    "* F1 score: A weighted average of precision and recall.\n",
    "* Support: The number of instances in each class.\n",
    "\n",
    "The classification report is a useful tool for evaluating the performance of a classification model. It can help to identify the strengths and weaknesses of the model, and to make decisions about how to improve the model."
   ]
  },
  {
   "cell_type": "code",
   "execution_count": 78,
   "metadata": {},
   "outputs": [
    {
     "name": "stdout",
     "output_type": "stream",
     "text": [
      "              precision    recall  f1-score   support\n",
      "\n",
      "     Class 0       0.75      0.82      0.78        11\n",
      "     Class 1       0.85      0.79      0.81        14\n",
      "\n",
      "    accuracy                           0.80        25\n",
      "   macro avg       0.80      0.80      0.80        25\n",
      "weighted avg       0.80      0.80      0.80        25\n",
      "\n"
     ]
    }
   ],
   "source": [
    "from sklearn.metrics import classification_report\n",
    "\n",
    "# Get predicted labels for the test set\n",
    "y_pred = logisticReg.predict(X_test)\n",
    "\n",
    "# Generate classification report\n",
    "report = classification_report(y_test, y_pred, target_names=[\"Class 0\", \"Class 1\"])\n",
    "\n",
    "# Print the classification report\n",
    "print(report)\n"
   ]
  },
  {
   "cell_type": "markdown",
   "metadata": {},
   "source": [
    "Class 0:\n",
    "\n",
    "Precision: Precision for Class 0 is 1.00, which means that when the model predicts an instance to be in Class 0, it's correct 100% of the time.\n",
    "\n",
    "Recall: Recall for Class 0 is 0.77, indicating that the model is able to correctly identify 77% of the actual instances that belong to Class 0.\n",
    "\n",
    "F1-Score: The F1-score for Class 0 is 0.87, which is the harmonic mean of precision and recall. It provides a balance between the two metrics.\n",
    "\n",
    "Support: The number of instances in Class 0 is 13.\n",
    "Class 1:\n",
    "\n",
    "\n",
    "Precision: Precision for Class 1 is 0.80, which means that when the model predicts an instance to be in Class 1, it's correct 80% of the time.\n",
    "\n",
    "Recall: Recall for Class 1 is 1.00, indicating that the model is able to correctly identify all of the actual instances that belong to Class 1.\n",
    "\n",
    "F1-Score: The F1-score for Class 1 is 0.89, providing a balance between precision and recall for this class.\n",
    "Support: The number of instances in Class 1 is 12.\n",
    "Accuracy:\n",
    "\n",
    "Accuracy: Overall accuracy of the model is 0.88, meaning that the model correctly predicts the class for 88% of the instances in the dataset.\n",
    "Macro Average:\n",
    "\n",
    "Macro Average Precision, Recall, F1-Score: These are the averages of precision, recall, and F1-score calculated for each class individually. They give equal weight to each class.\n",
    "Weighted Average:\n",
    "\n",
    "Weighted Average Precision, Recall, F1-Score: These are the weighted averages of precision, recall, and F1-score calculated based on the support for each class. They provide a balanced measure when the classes are imbalanced.\n"
   ]
  },
  {
   "cell_type": "markdown",
   "metadata": {},
   "source": [
    "Create an ROC Curve for the model Using both the training and test sets"
   ]
  },
  {
   "cell_type": "code",
   "execution_count": 79,
   "metadata": {},
   "outputs": [
    {
     "data": {
      "image/png": "[encoded data removed]",
      "text/plain": [
       "<Figure size 800x600 with 1 Axes>"
      ]
     },
     "metadata": {},
     "output_type": "display_data"
    }
   ],
   "source": [
    "import numpy as np\n",
    "import matplotlib.pyplot as plt\n",
    "from sklearn.metrics import roc_curve, auc\n",
    "\n",
    "# Get predicted probabilities for both training and test sets\n",
    "y_train_probs = logisticReg.predict_proba(X_train)[:, 1]\n",
    "y_test_probs = logisticReg.predict_proba(X_test)[:, 1]\n",
    "\n",
    "# Calculate ROC curve and AUC for training set\n",
    "fpr_train, tpr_train, _ = roc_curve(y_train, y_train_probs)\n",
    "roc_auc_train = auc(fpr_train, tpr_train)\n",
    "\n",
    "# Calculate ROC curve and AUC for test set\n",
    "fpr_test, tpr_test, _ = roc_curve(y_test, y_test_probs)\n",
    "roc_auc_test = auc(fpr_test, tpr_test)\n",
    "\n",
    "# Plot ROC curves for both training and test sets\n",
    "plt.figure(figsize=(8, 6))\n",
    "plt.plot(fpr_train, tpr_train, color='darkorange', lw=2, label='Train ROC curve (AUC = %0.2f)' % roc_auc_train)\n",
    "plt.plot(fpr_test, tpr_test, color='navy', lw=2, label='Test ROC curve (AUC = %0.2f)' % roc_auc_test)\n",
    "plt.plot([0, 1], [0, 1], color='gray', linestyle='--')\n",
    "plt.xlim([0.0, 1.0])\n",
    "plt.ylim([0.0, 1.05])\n",
    "plt.xlabel('False Positive Rate')\n",
    "plt.ylabel('True Positive Rate')\n",
    "plt.title('Receiver Operating Characteristic (ROC)')\n",
    "plt.legend(loc=\"lower right\")\n",
    "plt.show()"
   ]
  },
  {
   "cell_type": "code",
   "execution_count": 80,
   "metadata": {},
   "outputs": [
    {
     "data": {
      "image/png": "[encoded data removed]",
      "text/plain": [
       "<Figure size 1000x800 with 1 Axes>"
      ]
     },
     "metadata": {},
     "output_type": "display_data"
    }
   ],
   "source": [
    "from sklearn.metrics import roc_curve, auc\n",
    "\n",
    "# Original Model\n",
    "logisticReg_original = LogisticRegression()\n",
    "model_original = logisticReg_original.fit(X_train, y_train)\n",
    "\n",
    "# Model with Interceptor\n",
    "logisticReg_intercept = LogisticRegression(fit_intercept=True)\n",
    "model_intercept = logisticReg_intercept.fit(X_train, y_train)\n",
    "\n",
    "# Model with Regularization (large C)\n",
    "logisticReg_regularized = LogisticRegression(C=1e16)\n",
    "model_regularized = logisticReg_regularized.fit(X_train, y_train)\n",
    "\n",
    "# Get predicted probabilities for all three models\n",
    "y_test_probs_original = logisticReg_original.predict_proba(X_test)[:, 1]\n",
    "y_test_probs_intercept = logisticReg_intercept.predict_proba(X_test)[:, 1]\n",
    "y_test_probs_regularized = logisticReg_regularized.predict_proba(X_test)[:, 1]\n",
    "\n",
    "# Calculate ROC curve and AUC for all three models\n",
    "fpr_original, tpr_original, _ = roc_curve(y_test, y_test_probs_original)\n",
    "roc_auc_original = auc(fpr_original, tpr_original)\n",
    "\n",
    "fpr_intercept, tpr_intercept, _ = roc_curve(y_test, y_test_probs_intercept)\n",
    "roc_auc_intercept = auc(fpr_intercept, tpr_intercept)\n",
    "\n",
    "fpr_regularized, tpr_regularized, _ = roc_curve(y_test, y_test_probs_regularized)\n",
    "roc_auc_regularized = auc(fpr_regularized, tpr_regularized)\n",
    "\n",
    "# Plot ROC curves for all three models on the same graph\n",
    "plt.figure(figsize=(10, 8))\n",
    "plt.plot(fpr_original, tpr_original, color='darkorange', lw=2, label='Original ROC curve (AUC = %0.2f)' % roc_auc_original)\n",
    "plt.plot(fpr_intercept, tpr_intercept, color='blue', lw=2, label='Intercept ROC curve (AUC = %0.2f)' % roc_auc_intercept)\n",
    "plt.plot(fpr_regularized, tpr_regularized, color='green', lw=2, label='Regularized ROC curve (AUC = %0.2f)' % roc_auc_regularized)\n",
    "plt.plot([0, 1], [0, 1], color='gray', linestyle='--')\n",
    "plt.xlim([0.0, 1.0])\n",
    "plt.ylim([0.0, 1.05])\n",
    "plt.xlabel('False Positive Rate')\n",
    "plt.ylabel('True Positive Rate')\n",
    "plt.title('Receiver Operating Characteristic (ROC)')\n",
    "plt.legend(loc=\"lower right\")\n",
    "plt.show()\n"
   ]
  },
  {
   "cell_type": "markdown",
   "metadata": {},
   "source": [
    "## 6. Random Forest Regression Model\n",
    "Random Forest model would learn patterns from the features in X to predict the target values in y. By using multiple decision trees and aggregating their predictions, the Random Forest aims to provide more accurate and robust predictions while reducing overfitting."
   ]
  },
  {
   "cell_type": "code",
   "execution_count": 81,
   "metadata": {},
   "outputs": [
    {
     "name": "stdout",
     "output_type": "stream",
     "text": [
      "Random Forest - Mean Absolute Error: 0.17079999999999998\n",
      "Random Forest - Mean Squared Error: 0.076788\n",
      "Random Forest - Root Mean Squared Error: 0.27710647773013175\n",
      "R-sq score: 0.6883603896103896\n"
     ]
    }
   ],
   "source": [
    "# Import the necessary libraries\n",
    "from sklearn.ensemble import RandomForestRegressor\n",
    "\n",
    "\n",
    "# Create a Random Forest regressor with specified parameters\n",
    "rf_model = RandomForestRegressor()\n",
    "\n",
    "# Fit the Random Forest model to the training data\n",
    "rf_model.fit(X_train, y_train)\n",
    "\n",
    "# Make predictions on the testing set\n",
    "y_pred_rf = rf_model.predict(X_test)\n",
    "\n",
    "# Model evaluation for Random Forest\n",
    "mae_rf = mean_absolute_error(y_test, y_pred_rf)\n",
    "mse_rf = mean_squared_error(y_test, y_pred_rf)\n",
    "rmse_rf= np.sqrt(mse_rf)\n",
    "\n",
    "print(\"Random Forest - Mean Absolute Error:\", mae_rf)\n",
    "print(\"Random Forest - Mean Squared Error:\", mse_rf)\n",
    "print(\"Random Forest - Root Mean Squared Error:\", rmse_rf)\n",
    "print('R-sq score:', r2_score(y_test,y_pred_rf))"
   ]
  },
  {
   "cell_type": "markdown",
   "metadata": {},
   "source": [
    "# Conclusions\n",
    "1. The best performing model was selected based on the mse and rmse values which makes the random forest model be the best performing mmodel. \n",
    "\n",
    "    * Random Forest - Mean Absolute Error: 0.09040000000000001\n",
    "    \n",
    "    * Random Forest - Mean Squared Error: 0.044871999999999995\n",
    "\n",
    "2. When the temperature gets higher from a degree of 35 to 50 there is an increase in cab prices caused by higher demand\n",
    "\n",
    "3. When there is low rainfall the prices are  higher due to high demand compared to when there is high rainfall\n",
    "\n",
    "4. Uber is preferred to Lyft\n",
    "\n",
    "5. An increase in distance contributes to an increase in price in  the different cab types"
   ]
  },
  {
   "cell_type": "markdown",
   "metadata": {},
   "source": [
    "# Recommendations\n",
    "\n",
    "1. Lyft should do more marketing so that more people are aware of it and order more of the cabs.\n",
    "\n",
    "2. Both Uber and Lyft should continue using their dynamic pricing strategies(surge pricing), based on factors like weather conditions, demand-supply ratios, and time of day.\n",
    "\n",
    "3. Creating loyalty programs to attract and maintain customers.\n",
    "\n",
    "4. Customizing a customer's travel experience.\n"
   ]
  }
 ],
 "metadata": {
  "kernelspec": {
   "display_name": "Python (learn-env)",
   "language": "python",
   "name": "learn-env"
  },
  "language_info": {
   "codemirror_mode": {
    "name": "ipython",
    "version": 3
   },
   "file_extension": ".py",
   "mimetype": "text/x-python",
   "name": "python",
   "nbconvert_exporter": "python",
   "pygments_lexer": "ipython3",
   "version": "3.10.9"
  },
  "toc": {
   "base_numbering": 1,
   "nav_menu": {},
   "number_sections": true,
   "sideBar": true,
   "skip_h1_title": false,
   "title_cell": "Table of Contents",
   "title_sidebar": "Contents",
   "toc_cell": true,
   "toc_position": {
    "height": "calc(100% - 180px)",
    "left": "10px",
    "top": "150px",
    "width": "218.7px"
   },
   "toc_section_display": true,
   "toc_window_display": false
  }
 },
 "nbformat": 4,
 "nbformat_minor": 2
}
